{
 "cells": [
  {
   "cell_type": "markdown",
   "metadata": {},
   "source": [
    "# Tutorial 0b: Using Jupyter Notebooks"
   ]
  },
  {
   "cell_type": "markdown",
   "metadata": {},
   "source": [
    "© 2017 Griffin Chure. This work is licensed under a [Creative Commons Attribution License CC-BY 4.0](https://creativecommons.org/licenses/by/4.0/). All code contained herein is licensed under an [MIT license](https://opensource.org/licenses/MIT) "
   ]
  },
  {
   "cell_type": "markdown",
   "metadata": {},
   "source": [
    "--- "
   ]
  },
  {
   "cell_type": "markdown",
   "metadata": {},
   "source": [
    "##  What is a Jupyter notebook?"
   ]
  },
  {
   "cell_type": "markdown",
   "metadata": {},
   "source": [
    "[Jupyter](http://jupyter.org) is browser-based system to write code, math, and text in the same document such that you can clearly explain the concepts and practices used you your program. Jupyter is not only for Python, but can be used with R, Juila, MATLAB, and about 35 other languages as of this writing. All files are saved as a [JSON](http://www.json.org) formatted text file with the extension `.ipynb`. For homework in this class, you will send this text file via email to the TAs.  "
   ]
  },
  {
   "cell_type": "markdown",
   "metadata": {},
   "source": [
    "##  How to launch the notebook\n",
    "\n",
    "A Jupyter Notebook server can either be launched from the command line or from a GUI program installed along with anaconda called Navigator. "
   ]
  },
  {
   "cell_type": "markdown",
   "metadata": {},
   "source": [
    "### Launching from the terminal "
   ]
  },
  {
   "cell_type": "markdown",
   "metadata": {},
   "source": [
    "To launch a notebook server from the command line, simply open a terminal emulator (Terminal.app on OSX or gitbash on windows) and navigate to the directory  you would like to set up a server by typing `cd path/to/folder` (please see the [python syntax tutorial](t0c_python_syntax_and_plotting.html) for more detail on these commands. If you followed the directory structure [specified in tutorial 0a](t0a_setting_up_python.html), you can navigate to this directory as follows.\n",
    "\n",
    "```\n",
    "cd ~/bi1\n",
    "```\n",
    "\n",
    "Once you are in the correct folder, you can launch a notebook server by typing:\n",
    "\n",
    "```\n",
    "jupyter notebook\n",
    "```\n",
    "\n",
    "This will open a screen in your default internet browser with a server containing your notebooks. It's address will be [`http://localhost:8888`](http://localhost:8888) and is only available on your computer. **Note that once you start a server, you must keep the terminal window open.** This is where the 'guts' of the python kernel is. \n",
    "\n",
    "\n",
    " "
   ]
  },
  {
   "cell_type": "markdown",
   "metadata": {},
   "source": [
    "### Launching from the Anaconda Navigator "
   ]
  },
  {
   "cell_type": "markdown",
   "metadata": {},
   "source": [
    "Installing Python 3 from Anaconda should also install a GUI application called [Anaconda Navigator](https://docs.continuum.io/anaconda/navigator). From here, you can launch several applications such as a QTconsole, the Spyder IDE, and a data visualization software called GlueViz. We are interested in the Jupyter Notebook application tab, which is shown boxed in red below:\n",
    "\n",
    "![](../images/anaconda_navigator.png)\n",
    "\n",
    "By clicking on 'Launch', you will instantiate a Jupyter notebook server which should open in a new window. \n",
    " "
   ]
  },
  {
   "cell_type": "markdown",
   "metadata": {},
   "source": [
    "## Interacting with the notebook "
   ]
  },
  {
   "cell_type": "markdown",
   "metadata": {},
   "source": [
    "If everything launched correctly, you should be able to see a screen which looks something like this:\n",
    "\n",
    "![](../images/starting_notebook.png)\n",
    "\n",
    "\n",
    "To start a new python window, click on the right-hand side of the application window and select `New`. This will give you a bunch of options for new notebook kernels. In the above screen shot, there are two available Python kernels and one Matlab kernel. When starting a notebook, you should choose `conda root` or `root` if they are available. If you have just a tab that says \"Python\", choose that one.\n",
    "\n",
    "\n",
    "Once you start a new notebook, you will be brought to the following screen.\n",
    "\n",
    "![](../images/toolbars.png)\n",
    "\n",
    "Welcome to the Jupyter notebook! There are many available buttons for you to click. However, the three most important components of the notebook are highlighted in colored boxes. In blue is the name of the notebook. By clicking this, you can rename the notebook. In red is the cell formatting assignment. By default, it is registered as code, but it can also be set to markdown as described later. \n",
    "\n",
    "Finally, in purple, is the code cell. In this cell, you can type an execute Python code as well as text that will be formatted in a nicely readable format. "
   ]
  },
  {
   "cell_type": "markdown",
   "metadata": {},
   "source": [
    "##  Writing code"
   ]
  },
  {
   "cell_type": "markdown",
   "metadata": {},
   "source": [
    "All code you write in the notebook will be in the code cell. You can write single lines, to entire loops, to complete functions. As an example, we can write and evaluate a print statement in a code cell, as is shown below. To exectue the code, we can simply hit `shift + enter` while our cursor is in the code cell.  "
   ]
  },
  {
   "cell_type": "code",
   "execution_count": 2,
   "metadata": {
    "collapsed": false
   },
   "outputs": [
    {
     "name": "stdout",
     "output_type": "stream",
     "text": [
      "Hello! This is the print function. Python will print this line below\n"
     ]
    }
   ],
   "source": [
    "# This is a comment and is not read by Python\n",
    "print('Hello! This is the print function. Python will print this line below')"
   ]
  },
  {
   "cell_type": "markdown",
   "metadata": {},
   "source": [
    "The box with the gray background contains the python code while the output is in the box with the white background. We can also write a `for loop` as an example of executing multiple lines of code at once."
   ]
  },
  {
   "cell_type": "code",
   "execution_count": 2,
   "metadata": {
    "collapsed": false
   },
   "outputs": [
    {
     "name": "stdout",
     "output_type": "stream",
     "text": [
      "0\n",
      "2\n",
      "4\n",
      "6\n",
      "8\n"
     ]
    }
   ],
   "source": [
    "# Write a basic for loop.\n",
    "for i in range(5):\n",
    "    # Multiply the value of i by two and assign it to a variable. \n",
    "    temp_variable = 2 * i\n",
    "    \n",
    "    # Print the value of the temp variable.\n",
    "    print(temp_variable)"
   ]
  },
  {
   "cell_type": "markdown",
   "metadata": {},
   "source": [
    "[As is discussed in the Python syntax tutorial](t0c_python_syntax_and_plotting.html), we often must import modules to get scientific power out of our programs. Import statements work in these cells as well. For example, we can import multiple modules at once that we will use to make a plot.\n"
   ]
  },
  {
   "cell_type": "code",
   "execution_count": 2,
   "metadata": {
    "collapsed": false
   },
   "outputs": [],
   "source": [
    "import numpy as np\n",
    "import matplotlib.pyplot as plt\n",
    "import seaborn"
   ]
  },
  {
   "cell_type": "markdown",
   "metadata": {},
   "source": [
    "In order for plots to render within the notebook, you must tell Python to display these plots inline. To do so, we can simply type the following.  "
   ]
  },
  {
   "cell_type": "code",
   "execution_count": 5,
   "metadata": {
    "collapsed": true
   },
   "outputs": [],
   "source": [
    "%matplotlib inline"
   ]
  },
  {
   "cell_type": "markdown",
   "metadata": {},
   "source": [
    " As an example, we can plot one of my favorite functions. "
   ]
  },
  {
   "cell_type": "code",
   "execution_count": 20,
   "metadata": {
    "collapsed": false
   },
   "outputs": [
    {
     "data": {
      "image/png": "[encoded data removed]",
      "text/plain": [
       "<matplotlib.figure.Figure at 0x11b04b208>"
      ]
     },
     "metadata": {},
     "output_type": "display_data"
    }
   ],
   "source": [
    "# Plot one of Griffin's favorite functions.\n",
    "x = np.linspace(-np.pi, np.pi, 500)\n",
    "y = np.sin(2 * np.sin(2 * np.sin(2 * x)))\n",
    "\n",
    "# Generate the plot.\n",
    "plt.plot(x, y)\n",
    "plt.xlabel(r'$x$', fontsize=16)\n",
    "plt.ylabel(r'$y$', fontsize=16)\n",
    "\n",
    "# Don't worry about this syntax for now.\n",
    "_ = plt.xticks([-np.pi, 0, np.pi], ['$-\\pi$', '0', '$\\pi$'], fontsize=15)"
   ]
  },
  {
   "cell_type": "markdown",
   "metadata": {},
   "source": [
    "While you could in principle write an entire script's worth of code in a single code cell, this is not wise for readability. Therefore, keep the length of what you write in code cells to a logical minimum. Write them such that the perform a single step in your analysis, then move on to the next cell. For example, it is wise to write a function in its own code cell and then execute it in another. It is reasonable, however, to have a single notebook contain all code for a single analysis, just not in a single code cell. "
   ]
  },
  {
   "cell_type": "markdown",
   "metadata": {},
   "source": [
    "###  A warning"
   ]
  },
  {
   "cell_type": "markdown",
   "metadata": {},
   "source": [
    "Code cells can be executed in any order. This means that you can overwrite your current variables by running things out of order. **When coding in notebooks, be cautions of the order in which you run cells.**"
   ]
  },
  {
   "cell_type": "markdown",
   "metadata": {},
   "source": [
    "##  Writing Text"
   ]
  },
  {
   "cell_type": "markdown",
   "metadata": {},
   "source": [
    "Arguably the most useful component of the Jupyter notebook is the ability to interweave code and explanatory text into a single, coherent document. For the purposes of this course, **all code and plots should be accompanied with explanatory text.** The only way for those of us reading your work to understand your thought process depends on your explanation.\n",
    "\n",
    "Each cell in a Jupyter notebook can exist either as a code cell or as text-formatting cell called a **markdown** cell. [Markdown](https://daringfireball.net/projects/markdown/syntax) is a mark-up language that very easily converts to other typesetting formats such as HTML and PDF. You can [find a cheat sheet here](https://github.com/adam-p/markdown-here/wiki/Markdown-Cheatsheet). \n",
    "\n",
    "Whenever you make a new cell, it's default assignment will be a `code` cell. This means when you want to write text, you will need to specifically change it to a markdown cell. You can do this by clicking on the drop-down menu that reads `code'` (highlighted in red in the second figure of this notebook) and selecting 'Markdown'. You can then type in the code cell and all Python syntax highlighting will be removed. The basics of Markdown (nearly all you will need to know can be summarized by typing the following lines into a markdown cell. \n",
    "\n",
    "\n",
    "```\n",
    "**This part of the sentence will be bold**, *this part italic*, [this part a link](http://www.google.com), and \n",
    "* This part a \n",
    "    + bulleted\n",
    "        - list\n",
    "```\n",
    "\n",
    "These lines yield the following output:\n",
    "\n",
    "\n",
    "**This part of the sentence will be bold**, *this part italic*, [this part a link](http://www.google.com), and \n",
    "* This part a \n",
    "    + bulleted\n",
    "        - list\n"
   ]
  },
  {
   "cell_type": "markdown",
   "metadata": {},
   "source": [
    "Mathematics can be typeset using the [LaTeX typesetting language]() within markdown cells. For example, typing \n",
    "\n",
    "```\n",
    "$$\n",
    "\\int\\limits_{-\\infty}^{\\infty}e^{-\\alpha x^2} dx = {\\sqrt{\\pi}\\over{\\alpha}}\n",
    "$$\n",
    "```\n",
    "into a markdown cell is rendered as \n",
    "\n",
    "$$\n",
    "\\int\\limits_{-\\infty}^{\\infty}e^{-\\alpha x^2} dx = {\\sqrt{\\pi\\over{\\alpha}}}\n",
    "$$\n",
    "\n",
    "which is the infamous gaussian integral. Typsetting math in this manner is not required for the course. If mastering LaTeX is too challenging, you may include **highly legible scans of your hand-written math** in the following way.\n",
    "\n",
    "```\n",
    "![](path/to/image/gaussian_integral.jpg)\n",
    "```\n",
    "\n",
    "The above line yields the following image.\n",
    "\n",
    "![](../images/gaussian_integral.jpg)\n",
    "\n",
    "\n",
    "Note that this image must also be included in your homework submission email."
   ]
  },
  {
   "cell_type": "markdown",
   "metadata": {},
   "source": [
    "## Saving, quitting, and going home"
   ]
  },
  {
   "cell_type": "markdown",
   "metadata": {},
   "source": [
    "Jupyter notebooks are set up to autosave your work every 15 or so minutes. However, you should not rely on the autosave feature! Save your work frequently by clicking on the floppy disk icon located in the upper left-hand  corner of the toolbar.\n",
    "\n",
    "To navigate back to the root of your Jupyter notebook server, you can click on the Jupyter logo at any time.\n",
    "\n",
    "\n",
    "To quit your Jupyter notebook, you can simply close the browser window and the Jupyter notebook server running in your terminal."
   ]
  },
  {
   "cell_type": "markdown",
   "metadata": {},
   "source": [
    "## Converting to HTML and PDF"
   ]
  },
  {
   "cell_type": "markdown",
   "metadata": {},
   "source": [
    "For this course, **you must submit your coding submissions in the `.ipynb` format.** However, it is useful to know that you can convert these notebooks to highly-portable formats such as HTML and PDF. To convert, you can either do this using the dropdown menu option `File -> download as -> ...` or via the command line by using the following lines:\n",
    "\n",
    "```\n",
    "jupyter nbconvert notebook_name.ipynb notebook_name.pdf\n",
    "```\n",
    "\n",
    "assuming you are in the same working directory as your notebooks."
   ]
  }
 ],
 "metadata": {
  "anaconda-cloud": {},
  "kernelspec": {
   "display_name": "Python [default]",
   "language": "python",
   "name": "python3"
  },
  "language_info": {
   "codemirror_mode": {
    "name": "ipython",
    "version": 3
   },
   "file_extension": ".py",
   "mimetype": "text/x-python",
   "name": "python",
   "nbconvert_exporter": "python",
   "pygments_lexer": "ipython3",
   "version": "3.4.5"
  }
 },
 "nbformat": 4,
 "nbformat_minor": 1
}
