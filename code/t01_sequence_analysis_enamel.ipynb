{
 "cells": [
  {
   "cell_type": "markdown",
   "metadata": {},
   "source": [
    "# Tutorial 1. Basic DNA sequence manipulation"
   ]
  },
  {
   "cell_type": "markdown",
   "metadata": {},
   "source": [
    "© 2018 Manuel Razo. This work is licensed under a [Creative Commons Attribution License CC-BY 4.0](https://creativecommons.org/licenses/by/4.0/). All code contained herein is licensed under an [MIT license](https://opensource.org/licenses/MIT)\n",
    "\n",
    "---"
   ]
  },
  {
   "cell_type": "code",
   "execution_count": 45,
   "metadata": {},
   "outputs": [],
   "source": [
    "# Import relevant libraries\n",
    "import numpy as np # For numerical computation\n",
    "import pandas as pd # For data manipulation\n",
    "\n",
    "# Import bioinformatic tools\n",
    "import Bio.AlignIO # To read sequence alignments\n",
    "import Bio.Seq # Tools to manipulate sequences\n",
    "\n",
    "# Import plotting utilities\n",
    "import matplotlib.pyplot as plt\n",
    "import seaborn as sns\n",
    "\n",
    "# Magic function to make matplotlib inline; other style specs must come AFTER\n",
    "%matplotlib inline\n",
    "\n",
    "# Set plotting style\n",
    "sns.set_style('darkgrid')\n",
    "sns.set_context('notebook')\n",
    "\n",
    "# This enables SVG graphics inline\n",
    "%config InlineBackend.figure_format = 'svg'"
   ]
  },
  {
   "cell_type": "markdown",
   "metadata": {},
   "source": [
    "# Consider the Leviathan's teeth.\n",
    "\n",
    "As we saw in lecture during the WoW (Week of Whales), the evolution of Cetaceans has served as an incredible puzzle for evolutionary biologists starting from Darwin himself. The transition from limbs-to-fins is one of the best documented cases within the fossil record. But in the age of modern DNA sequencing the cross-talking between classic paleontology and DNA science is still a rare event.\n",
    "\n",
    "In the beautiful [paper by Meredith et al.](http://journals.plos.org/plosgenetics/article?id=10.1371/journal.pgen.1000634) they exploit this interaction between the fossil record and the molecular evidence to \"*provide manifest evidence for the predictive power of Darwin's theory*.\" In this work they are interested in the conservation of teeth among placental mammals. In particular they study the enamelin (*ENAM*) gene as a 'molecular fossil' that they can compare directly with morphological features well preserved in the fossil record.\n",
    "\n",
    "The *ENAM* gene participates in the production and secretion of enamel, the hardest substance found in vertebrates that forms the outer cap of teeth. Being such a hard compound gives is a rich representation in the fossil record of placental mammals. But there are group of toothless mammals (edentulous) such as [pangolins](https://en.wikipedia.org/wiki/Pangolin), [baleen whales](https://en.wikipedia.org/wiki/Baleen_whale), and [anteaters](https://en.wikipedia.org/wiki/Anteater), and mammals with enamelless teeth such as [sloths](https://en.wikipedia.org/wiki/Sloth), [armadillos](https://en.wikipedia.org/wiki/Armadillo), [sperm whales](https://en.wikipedia.org/wiki/Sperm_whale), and [aardvarks](https://en.wikipedia.org/wiki/Aardvark).\n",
    "\n",
    "If all of these \"outlier\" groups of mammals descended from a common ancestor that had enamel coated teeth, Darwin's theory makes the simple prediction that the *ENAM* gene should be present in the genome of all these species, but it must be pseudogenized. What this means is that if one were to sequence the gene of edentulous and enamelless mammals and compare it with other placental mammals, there should be features such as stop codons, insertions or frame-shifts that would eliminate the functionality of the gene."
   ]
  },
  {
   "cell_type": "markdown",
   "metadata": {},
   "source": [
    "Read the data."
   ]
  },
  {
   "cell_type": "code",
   "execution_count": 2,
   "metadata": {},
   "outputs": [
    {
     "name": "stdout",
     "output_type": "stream",
     "text": [
      "There are 49 sequences in the alignment\n"
     ]
    }
   ],
   "source": [
    "# Define data directory\n",
    "datadir = './data/'\n",
    "\n",
    "# Read alignment file\n",
    "enamel_aln = Bio.AlignIO.read(datadir + 'enamel_alignment.nxs', 'nexus')\n",
    "\n",
    "# Print number of sequences in alignment\n",
    "print('There are {:d} sequences in the alignment'.format(len(enamel_aln)))"
   ]
  },
  {
   "cell_type": "markdown",
   "metadata": {},
   "source": [
    "Extract sequence and species name from alignment object."
   ]
  },
  {
   "cell_type": "code",
   "execution_count": 3,
   "metadata": {},
   "outputs": [],
   "source": [
    "# Extract sequences and names for each entry in alignment\n",
    "enamel_seq = [record.seq for record in enamel_aln]\n",
    "enamel_name = [record.name for record in enamel_aln]"
   ]
  },
  {
   "cell_type": "markdown",
   "metadata": {},
   "source": [
    "Remove non-DNA characters."
   ]
  },
  {
   "cell_type": "code",
   "execution_count": 4,
   "metadata": {},
   "outputs": [],
   "source": [
    "# Let's remove the missing \"?\" and gap \"-\" characters from all records\n",
    "enamel_clean_seq = [seq.ungap('?') for seq in enamel_seq]\n",
    "enamel_clean_seq = [seq.ungap('-') for seq in enamel_clean_seq]"
   ]
  },
  {
   "cell_type": "markdown",
   "metadata": {},
   "source": [
    "Generate DataFrame saving all 3 ORF translations."
   ]
  },
  {
   "cell_type": "code",
   "execution_count": 16,
   "metadata": {},
   "outputs": [
    {
     "name": "stderr",
     "output_type": "stream",
     "text": [
      "/Users/razo/anaconda3/lib/python3.6/site-packages/Bio/Seq.py:2095: BiopythonWarning: Partial codon, len(sequence) not a multiple of three. Explicitly trim the sequence or add trailing N before translation. This may become an error in future.\n",
      "  BiopythonWarning)\n"
     ]
    },
    {
     "data": {
      "text/html": [
       "<div>\n",
       "<style scoped>\n",
       "    .dataframe tbody tr th:only-of-type {\n",
       "        vertical-align: middle;\n",
       "    }\n",
       "\n",
       "    .dataframe tbody tr th {\n",
       "        vertical-align: top;\n",
       "    }\n",
       "\n",
       "    .dataframe thead th {\n",
       "        text-align: right;\n",
       "    }\n",
       "</style>\n",
       "<table border=\"1\" class=\"dataframe\">\n",
       "  <thead>\n",
       "    <tr style=\"text-align: right;\">\n",
       "      <th></th>\n",
       "      <th>DNA</th>\n",
       "      <th>frame</th>\n",
       "      <th>name</th>\n",
       "      <th>protein</th>\n",
       "    </tr>\n",
       "  </thead>\n",
       "  <tbody>\n",
       "    <tr>\n",
       "      <th>0</th>\n",
       "      <td>GACACCCGTATTATTCAGAAGAGATGTATGAACAAGATTATGAACA...</td>\n",
       "      <td>0.0</td>\n",
       "      <td>Vombatus_ursinus</td>\n",
       "      <td>DTRIIQKRCMNKIMNSPKRRIHPKWRAPPQPLPQTPQPLRTIQLNQ...</td>\n",
       "    </tr>\n",
       "    <tr>\n",
       "      <th>1</th>\n",
       "      <td>GACACCCGTATTATTCAGAAGAGATGTATGAACAAGATTATGAACA...</td>\n",
       "      <td>1.0</td>\n",
       "      <td>Vombatus_ursinus</td>\n",
       "      <td>TPVLFRRDV*TRL*TAQRGGSTQSGEHHLSPSPKHHSP*EQFNSTN...</td>\n",
       "    </tr>\n",
       "    <tr>\n",
       "      <th>2</th>\n",
       "      <td>GACACCCGTATTATTCAGAAGAGATGTATGAACAAGATTATGAACA...</td>\n",
       "      <td>2.0</td>\n",
       "      <td>Vombatus_ursinus</td>\n",
       "      <td>HPYYSEEMYEQDYEQPKEEDPPKVESTTSAPPPNTTALENNSTQPT...</td>\n",
       "    </tr>\n",
       "    <tr>\n",
       "      <th>3</th>\n",
       "      <td>GACCCCCATATTATTCAGAAGAGATGTTTGAACAAGACTTTGAAAA...</td>\n",
       "      <td>0.0</td>\n",
       "      <td>Monodelphis_domestica</td>\n",
       "      <td>DPHIIQKRCLNKTLKSPKRKIPPK*RVPPQPLQRTPRFLRPIQLKQ...</td>\n",
       "    </tr>\n",
       "    <tr>\n",
       "      <th>4</th>\n",
       "      <td>GACCCCCATATTATTCAGAAGAGATGTTTGAACAAGACTTTGAAAA...</td>\n",
       "      <td>1.0</td>\n",
       "      <td>Monodelphis_domestica</td>\n",
       "      <td>TPILFRRDV*TRL*KAQRGRSPQSREYHRSPSNELHGS*DQFNSSN...</td>\n",
       "    </tr>\n",
       "  </tbody>\n",
       "</table>\n",
       "</div>"
      ],
      "text/plain": [
       "                                                 DNA  frame  \\\n",
       "0  GACACCCGTATTATTCAGAAGAGATGTATGAACAAGATTATGAACA...    0.0   \n",
       "1  GACACCCGTATTATTCAGAAGAGATGTATGAACAAGATTATGAACA...    1.0   \n",
       "2  GACACCCGTATTATTCAGAAGAGATGTATGAACAAGATTATGAACA...    2.0   \n",
       "3  GACCCCCATATTATTCAGAAGAGATGTTTGAACAAGACTTTGAAAA...    0.0   \n",
       "4  GACCCCCATATTATTCAGAAGAGATGTTTGAACAAGACTTTGAAAA...    1.0   \n",
       "\n",
       "                    name                                            protein  \n",
       "0       Vombatus_ursinus  DTRIIQKRCMNKIMNSPKRRIHPKWRAPPQPLPQTPQPLRTIQLNQ...  \n",
       "1       Vombatus_ursinus  TPVLFRRDV*TRL*TAQRGGSTQSGEHHLSPSPKHHSP*EQFNSTN...  \n",
       "2       Vombatus_ursinus  HPYYSEEMYEQDYEQPKEEDPPKVESTTSAPPPNTTALENNSTQPT...  \n",
       "3  Monodelphis_domestica  DPHIIQKRCLNKTLKSPKRKIPPK*RVPPQPLQRTPRFLRPIQLKQ...  \n",
       "4  Monodelphis_domestica  TPILFRRDV*TRL*KAQRGRSPQSREYHRSPSNELHGS*DQFNSSN...  "
      ]
     },
     "execution_count": 16,
     "metadata": {},
     "output_type": "execute_result"
    }
   ],
   "source": [
    "# Initialize matrix to save 3 ORF translations\n",
    "columns = ['DNA', 'protein', 'frame', 'name']\n",
    "enamel_prot = pd.DataFrame(columns=[])\n",
    "for i, seq in enumerate(enamel_clean_seq):\n",
    "    for frame in range(3):\n",
    "        # Initialize array to save info\n",
    "        species = pd.Series([enamel_name[i], str(seq)], index=['name', 'DNA'])\n",
    "        length = 3 * (len(seq) - frame // 3)\n",
    "        prot_seq = seq[frame: frame + length].translate()\n",
    "        # Append this ORF to pd.Series\n",
    "        species = species.append(pd.Series([str(prot_seq), frame],\n",
    "                                           index=['protein', 'frame']))\n",
    "        enamel_prot = enamel_prot.append(species, ignore_index=True)\n",
    "\n",
    "# Print the head of the table\n",
    "enamel_prot.head()"
   ]
  },
  {
   "cell_type": "markdown",
   "metadata": {},
   "source": [
    "Find how many stop codons per ORF."
   ]
  },
  {
   "cell_type": "code",
   "execution_count": 17,
   "metadata": {},
   "outputs": [
    {
     "data": {
      "text/html": [
       "<div>\n",
       "<style scoped>\n",
       "    .dataframe tbody tr th:only-of-type {\n",
       "        vertical-align: middle;\n",
       "    }\n",
       "\n",
       "    .dataframe tbody tr th {\n",
       "        vertical-align: top;\n",
       "    }\n",
       "\n",
       "    .dataframe thead th {\n",
       "        text-align: right;\n",
       "    }\n",
       "</style>\n",
       "<table border=\"1\" class=\"dataframe\">\n",
       "  <thead>\n",
       "    <tr style=\"text-align: right;\">\n",
       "      <th></th>\n",
       "      <th>name</th>\n",
       "      <th>frame</th>\n",
       "      <th>num_stops</th>\n",
       "    </tr>\n",
       "  </thead>\n",
       "  <tbody>\n",
       "    <tr>\n",
       "      <th>0</th>\n",
       "      <td>Vombatus_ursinus</td>\n",
       "      <td>0.0</td>\n",
       "      <td>23.0</td>\n",
       "    </tr>\n",
       "    <tr>\n",
       "      <th>1</th>\n",
       "      <td>Vombatus_ursinus</td>\n",
       "      <td>1.0</td>\n",
       "      <td>71.0</td>\n",
       "    </tr>\n",
       "    <tr>\n",
       "      <th>2</th>\n",
       "      <td>Vombatus_ursinus</td>\n",
       "      <td>2.0</td>\n",
       "      <td>0.0</td>\n",
       "    </tr>\n",
       "    <tr>\n",
       "      <th>3</th>\n",
       "      <td>Monodelphis_domestica</td>\n",
       "      <td>0.0</td>\n",
       "      <td>31.0</td>\n",
       "    </tr>\n",
       "    <tr>\n",
       "      <th>4</th>\n",
       "      <td>Monodelphis_domestica</td>\n",
       "      <td>1.0</td>\n",
       "      <td>72.0</td>\n",
       "    </tr>\n",
       "  </tbody>\n",
       "</table>\n",
       "</div>"
      ],
      "text/plain": [
       "                    name  frame  num_stops\n",
       "0       Vombatus_ursinus    0.0       23.0\n",
       "1       Vombatus_ursinus    1.0       71.0\n",
       "2       Vombatus_ursinus    2.0        0.0\n",
       "3  Monodelphis_domestica    0.0       31.0\n",
       "4  Monodelphis_domestica    1.0       72.0"
      ]
     },
     "execution_count": 17,
     "metadata": {},
     "output_type": "execute_result"
    }
   ],
   "source": [
    "# Initialize array to save open reading frames\n",
    "stop_codons = np.zeros(len(enamel_prot))\n",
    "\n",
    "# Loop through protein sequences counting stop codons\n",
    "for i, prot in enumerate(enamel_prot.protein):\n",
    "    stop_codons[i] = prot.count('*')\n",
    "\n",
    "# Append number of stop codons as column to the dataframe\n",
    "enamel_prot['num_stops'] = stop_codons\n",
    "\n",
    "# Print head of expanded DataFrame\n",
    "enamel_prot[['name', 'frame', 'num_stops']].head()"
   ]
  },
  {
   "cell_type": "code",
   "execution_count": 39,
   "metadata": {},
   "outputs": [
    {
     "data": {
      "text/html": [
       "<div>\n",
       "<style scoped>\n",
       "    .dataframe tbody tr th:only-of-type {\n",
       "        vertical-align: middle;\n",
       "    }\n",
       "\n",
       "    .dataframe tbody tr th {\n",
       "        vertical-align: top;\n",
       "    }\n",
       "\n",
       "    .dataframe thead th {\n",
       "        text-align: right;\n",
       "    }\n",
       "</style>\n",
       "<table border=\"1\" class=\"dataframe\">\n",
       "  <thead>\n",
       "    <tr style=\"text-align: right;\">\n",
       "      <th></th>\n",
       "      <th>name</th>\n",
       "      <th>all_stops</th>\n",
       "    </tr>\n",
       "  </thead>\n",
       "  <tbody>\n",
       "    <tr>\n",
       "      <th>0</th>\n",
       "      <td>Vombatus_ursinus</td>\n",
       "      <td>False</td>\n",
       "    </tr>\n",
       "    <tr>\n",
       "      <th>1</th>\n",
       "      <td>Monodelphis_domestica</td>\n",
       "      <td>False</td>\n",
       "    </tr>\n",
       "    <tr>\n",
       "      <th>2</th>\n",
       "      <td>Eubalaena_glacialis</td>\n",
       "      <td>True</td>\n",
       "    </tr>\n",
       "    <tr>\n",
       "      <th>3</th>\n",
       "      <td>Eubalaena_australis</td>\n",
       "      <td>True</td>\n",
       "    </tr>\n",
       "    <tr>\n",
       "      <th>4</th>\n",
       "      <td>Megaptera_novaeangliae</td>\n",
       "      <td>True</td>\n",
       "    </tr>\n",
       "  </tbody>\n",
       "</table>\n",
       "</div>"
      ],
      "text/plain": [
       "                     name all_stops\n",
       "0        Vombatus_ursinus     False\n",
       "1   Monodelphis_domestica     False\n",
       "2     Eubalaena_glacialis      True\n",
       "3     Eubalaena_australis      True\n",
       "4  Megaptera_novaeangliae      True"
      ]
     },
     "execution_count": 39,
     "metadata": {},
     "output_type": "execute_result"
    }
   ],
   "source": [
    "# Initialize a DataFrame to save per species whether or not all \n",
    "# ORFs have stop codons\n",
    "df_stops = pd.DataFrame(columns=['name', 'all_stops'])\n",
    "\n",
    "# Loop through species and ask if all frames have a stop codon\n",
    "for i, species in enumerate(enamel_name):\n",
    "    # Extract the data\n",
    "    stops = enamel_prot[enamel_prot.name == species].num_stops\n",
    "    # Ask if all ORFs have stop codons\n",
    "    species_stop = np.all(stops > 0)\n",
    "    # Append result to DataFrame\n",
    "    df_stops = df_stops.append(pd.Series([species, species_stop],\n",
    "                                            index=['name', 'all_stops']),\n",
    "                                 ignore_index=True)\n",
    "\n",
    "# Print header of DataFrame\n",
    "df_stops.head()"
   ]
  },
  {
   "cell_type": "code",
   "execution_count": 44,
   "metadata": {},
   "outputs": [
    {
     "data": {
      "text/plain": [
       "20"
      ]
     },
     "execution_count": 44,
     "metadata": {},
     "output_type": "execute_result"
    }
   ],
   "source": [
    "len(df_stops[df_stops.all_stops == True])"
   ]
  },
  {
   "cell_type": "code",
   "execution_count": null,
   "metadata": {},
   "outputs": [],
   "source": []
  }
 ],
 "metadata": {
  "kernelspec": {
   "display_name": "Python 3",
   "language": "python",
   "name": "python3"
  },
  "language_info": {
   "codemirror_mode": {
    "name": "ipython",
    "version": 3
   },
   "file_extension": ".py",
   "mimetype": "text/x-python",
   "name": "python",
   "nbconvert_exporter": "python",
   "pygments_lexer": "ipython3",
   "version": "3.6.4"
  }
 },
 "nbformat": 4,
 "nbformat_minor": 2
}
