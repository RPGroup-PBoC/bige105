{
 "cells": [
  {
   "cell_type": "markdown",
   "metadata": {},
   "source": [
    "# Tutorial 1. Basic DNA sequence manipulation"
   ]
  },
  {
   "cell_type": "markdown",
   "metadata": {},
   "source": [
    "© 2018 Manuel Razo. This work is licensed under a [Creative Commons Attribution License CC-BY 4.0](https://creativecommons.org/licenses/by/4.0/). All code contained herein is licensed under an [MIT license](https://opensource.org/licenses/MIT)\n",
    "\n",
    "---"
   ]
  },
  {
   "cell_type": "code",
   "execution_count": 18,
   "metadata": {},
   "outputs": [],
   "source": [
    "# Import relevant libraries\n",
    "import numpy as np # For numerical computation\n",
    "\n",
    "\n",
    "# Import plotting utilities\n",
    "import matplotlib.pyplot as plt\n",
    "import seaborn as sns\n",
    "\n",
    "# Magic function to make matplotlib inline; other style specs must come AFTER\n",
    "%matplotlib inline\n",
    "\n",
    "# Set plotting style\n",
    "sns.set_style('darkgrid')\n",
    "sns.set_context('notebook')\n",
    "\n",
    "# This enables SVG graphics inline\n",
    "%config InlineBackend.figure_format = 'svg'"
   ]
  },
  {
   "cell_type": "markdown",
   "metadata": {},
   "source": [
    "# Consider the Leviathan's teeth.\n",
    "\n",
    "As we saw in lecture during the WoW (Week of Whales), the evolution of Cetaceans has served as an incredible puzzle for evolutionary biologists starting from Darwin himself. The transition from limbs-to-fins is one of the best documented cases within the fossil record. But in the age of modern DNA sequencing the cross-talking between classic paleontology and DNA science is still a rare event.\n",
    "\n",
    "In the beautiful [paper by Meredith et al.](http://journals.plos.org/plosgenetics/article?id=10.1371/journal.pgen.1000634) they exploit this interaction between the fossil record and the molecular evidence to \"*provide manifest evidence for the predictive power of Darwin's theory*.\" In this work they are interested in the conservation of teeth among placental mammals. In particular they study the enamelin (*ENAM*) gene as a 'molecular fossil' that they can compare directly with morphological features well preserved in the fossil record.\n",
    "\n",
    "The *ENAM* gene participates in the production and secretion of enamel, the hardest substance found in vertebrates that forms the outer cap of teeth. Being such a hard compound gives it a rich representation in the fossil record of placental mammals. But there are groups of toothless mammals (edentulous) such as [pangolins](https://en.wikipedia.org/wiki/Pangolin), [baleen whales](https://en.wikipedia.org/wiki/Baleen_whale), and [anteaters](https://en.wikipedia.org/wiki/Anteater), and mammals with enamelless teeth such as [sloths](https://en.wikipedia.org/wiki/Sloth), [armadillos](https://en.wikipedia.org/wiki/Armadillo), [sperm whales](https://en.wikipedia.org/wiki/Sperm_whale), and [aardvarks](https://en.wikipedia.org/wiki/Aardvark).\n",
    "\n",
    "If all of these \"outlier\" groups of mammals we know descended from a common ancestor that had enamel coated teeth since it is present in other vertebrate groups, Darwin's theory makes the simple prediction:\n",
    "> If the ENAM gene is present in the genome of these species it is likely to be pseudogenized.\n",
    "\n",
    "What this means is that if one were to sequence the *ENAM* gene of edentulous and enamelless mammals and compare it with other placental mammals, there should be features such as stop codons, insertions or frame-shifts that would eliminate the functionality of the gene."
   ]
  },
  {
   "cell_type": "markdown",
   "metadata": {},
   "source": [
    "In this tutorial we will analyze the original data from the Meredith et al. paper in order to explore this pseudogenization hypothesis that they put forward. By doing so we will learn some basic commands to manipulate sequences in Python. The purpose of this and the following computational tutorials is to give you an idea of how powerful it is for evolutionary biologists to know how to write code.\n",
    "\n",
    "We will begin by importing the necessary package to read the sequences. Usually we import all of our packages at the beginning of the file, but since this is the first tutorial we will import the packages as they are needed."
   ]
  },
  {
   "cell_type": "code",
   "execution_count": 19,
   "metadata": {},
   "outputs": [],
   "source": [
    "# Import bioinformatic tools\n",
    "import Bio.AlignIO # To read sequence alignments\n",
    "import Bio.Seq # Tools to manipulate sequences"
   ]
  },
  {
   "cell_type": "markdown",
   "metadata": {},
   "source": [
    "Now that we have the needed package, let's read the file. We need to give the path to the directory where you have placed your data file. This will depend on how you have structured your folders. In my case I have created a folder called `data` directly in the folder where this notebook lives where I have placed the data file (called `enamel_alignment.ngx`)."
   ]
  },
  {
   "cell_type": "code",
   "execution_count": 20,
   "metadata": {},
   "outputs": [
    {
     "name": "stdout",
     "output_type": "stream",
     "text": [
      "There are 49 sequences in the alignment\n"
     ]
    }
   ],
   "source": [
    "# Define data directory\n",
    "datadir = './data/'\n",
    "\n",
    "# Read alignment file. For this we give a string that points at where the file\n",
    "# is and then we indicate the format of the alignment. In our case Meredith et al\n",
    "# save the alignment in the so-called nexus format.\n",
    "enamel_aln = Bio.AlignIO.read(datadir + 'enamel_alignment.nxs', 'nexus')\n",
    "\n",
    "# Print number of sequences in alignment\n",
    "print('There are {:d} sequences in the alignment'.format(len(enamel_aln)))"
   ]
  },
  {
   "cell_type": "markdown",
   "metadata": {},
   "source": [
    "A little bit about the syntax:\n",
    "- The BioPython package which we import as `Bio` has different modules within the package. What this means is that within the BioPython package the functions are organized into subgroups of specialized functions to perform certain tasks. For example here we use the module `AlignIO` which is a collection of routines to manipulate multiple alignment objects. So in order to read a multiple sequence alignment tool we must use the `read` function from this `AlignIO` module.\n",
    "- When we put `{:d}` this serves as a placeholder for what will come after. Indicating a `d` means that it is a placeholder for an `int`, i.e. a variable that contains an integer number. The function `.format` that comes after the string is a method associated with variables of type string in which it will substitute the placeholder with whichever text we feed into the function."
   ]
  },
  {
   "cell_type": "markdown",
   "metadata": {},
   "source": [
    "We know that the alignment object has 49 entries. We showed that by using the function `len`. Let's now look at a single entry. Remember that Python starts indexing at zero, so in order to obtain the first entry we must type"
   ]
  },
  {
   "cell_type": "code",
   "execution_count": 21,
   "metadata": {},
   "outputs": [
    {
     "data": {
      "text/plain": [
       "SeqRecord(seq=Seq('?GAC-ACCCGTATTATTCAGAAGAGATGTATGAA-CAAGATTATGAACAG-CCC...CTT', IUPACAmbiguousDNA()), id='Vombatus_ursinus', name='Vombatus_ursinus', description='', dbxrefs=[])"
      ]
     },
     "execution_count": 21,
     "metadata": {},
     "output_type": "execute_result"
    }
   ],
   "source": [
    "enamel_aln[0]"
   ]
  },
  {
   "cell_type": "markdown",
   "metadata": {},
   "source": [
    "We can see that each object is what is called a `SeqRecord` that contains different entries such as the sequence `seq`, the `id` of the sequence, the `name` and a `description`.\n",
    "\n",
    "In order to access to each of these attributes we can simply type `.attribute` after the `SeqRecord object` and that will return whatever we want. For example if we want to extract the `seq` attribute from this first entry we can type"
   ]
  },
  {
   "cell_type": "code",
   "execution_count": 22,
   "metadata": {},
   "outputs": [
    {
     "data": {
      "text/plain": [
       "Seq('?GAC-ACCCGTATTATTCAGAAGAGATGTATGAA-CAAGATTATGAACAG-CCC...CTT', IUPACAmbiguousDNA())"
      ]
     },
     "execution_count": 22,
     "metadata": {},
     "output_type": "execute_result"
    }
   ],
   "source": [
    "enamel_aln[0].seq"
   ]
  },
  {
   "cell_type": "markdown",
   "metadata": {},
   "source": [
    "It would be useful to extract all of the sequences and all of the species names and save them in separate variables. For this we can use a very special type of `for` loop in Python.\n",
    "\n",
    "Python has what is called **list comprehensions** are, in simple terms, one-liner `for` loops. For example let's say I want to loop from 0 to number 15 and I want to save the square of this number in an array. I could then just do the following:"
   ]
  },
  {
   "cell_type": "code",
   "execution_count": 23,
   "metadata": {},
   "outputs": [
    {
     "data": {
      "text/plain": [
       "[0, 1, 4, 9, 16, 25, 36, 49, 64, 81, 100, 121, 144, 169, 196, 225]"
      ]
     },
     "execution_count": 23,
     "metadata": {},
     "output_type": "execute_result"
    }
   ],
   "source": [
    "my_array = [x**2 for x in range(16)]\n",
    "my_array"
   ]
  },
  {
   "cell_type": "markdown",
   "metadata": {},
   "source": [
    "Let's dissect this syntax. There are three components to a list comprehension:\n",
    "1. The function that will perform something with the variable we are looping through. In our case since we want to square the variable we indicate `x**2`.\n",
    "2. The variable itself. In our case `x`.\n",
    "3. The values of the variable that will be looped through. For our example since we wanted to loop from 0 to 15 we use the function `range(16)` that returns an array containing the integer numbers from 0 to 15.\n",
    "\n",
    "Now using list comprehensions let's extract into different lists both the sequences and the names of the species."
   ]
  },
  {
   "cell_type": "code",
   "execution_count": 24,
   "metadata": {},
   "outputs": [],
   "source": [
    "# Extract sequences and names for each entry in alignment\n",
    "enamel_seq = [record.seq for record in enamel_aln]\n",
    "enamel_name = [record.name for record in enamel_aln]"
   ]
  },
  {
   "cell_type": "markdown",
   "metadata": {},
   "source": [
    "Now that we extracted the sequences we can start investigating the hypothesis put forward by the authors. The claim is that they found that in all 3 [open reading frames](https://en.wikipedia.org/wiki/Open_reading_frame) (ORFs) there were stop codons only in the edentulous and the enamelless species. So in order to find stop codons we need to take these DNA sequences and translate them into amino-acids. Each of our sequences, not being regular Python strings, but rather BioPython sequence objects have a `translation` method associated with them. Let's try it in one of our sequences."
   ]
  },
  {
   "cell_type": "code",
   "execution_count": 25,
   "metadata": {},
   "outputs": [
    {
     "ename": "TranslationError",
     "evalue": "Codon '?GA' is invalid",
     "output_type": "error",
     "traceback": [
      "\u001b[0;31m---------------------------------------------------------------------------\u001b[0m",
      "\u001b[0;31mKeyError\u001b[0m                                  Traceback (most recent call last)",
      "\u001b[0;32m~/anaconda3/lib/python3.6/site-packages/Bio/Seq.py\u001b[0m in \u001b[0;36m_translate_str\u001b[0;34m(sequence, table, stop_symbol, to_stop, cds, pos_stop, gap)\u001b[0m\n\u001b[1;32m   2106\u001b[0m         \u001b[0;32mtry\u001b[0m\u001b[0;34m:\u001b[0m\u001b[0;34m\u001b[0m\u001b[0m\n\u001b[0;32m-> 2107\u001b[0;31m             \u001b[0mamino_acids\u001b[0m\u001b[0;34m.\u001b[0m\u001b[0mappend\u001b[0m\u001b[0;34m(\u001b[0m\u001b[0mforward_table\u001b[0m\u001b[0;34m[\u001b[0m\u001b[0mcodon\u001b[0m\u001b[0;34m]\u001b[0m\u001b[0;34m)\u001b[0m\u001b[0;34m\u001b[0m\u001b[0m\n\u001b[0m\u001b[1;32m   2108\u001b[0m         \u001b[0;32mexcept\u001b[0m \u001b[0;34m(\u001b[0m\u001b[0mKeyError\u001b[0m\u001b[0;34m,\u001b[0m \u001b[0mCodonTable\u001b[0m\u001b[0;34m.\u001b[0m\u001b[0mTranslationError\u001b[0m\u001b[0;34m)\u001b[0m\u001b[0;34m:\u001b[0m\u001b[0;34m\u001b[0m\u001b[0m\n",
      "\u001b[0;32m~/anaconda3/lib/python3.6/site-packages/Bio/Data/CodonTable.py\u001b[0m in \u001b[0;36m__getitem__\u001b[0;34m(self, codon)\u001b[0m\n\u001b[1;32m    326\u001b[0m             \u001b[0;32mif\u001b[0m \u001b[0mx\u001b[0m \u001b[0;32mis\u001b[0m \u001b[0mKeyError\u001b[0m\u001b[0;34m:\u001b[0m\u001b[0;34m\u001b[0m\u001b[0m\n\u001b[0;32m--> 327\u001b[0;31m                 \u001b[0;32mraise\u001b[0m \u001b[0mKeyError\u001b[0m\u001b[0;34m(\u001b[0m\u001b[0mcodon\u001b[0m\u001b[0;34m)\u001b[0m  \u001b[0;31m# it's a stop codon\u001b[0m\u001b[0;34m\u001b[0m\u001b[0m\n\u001b[0m\u001b[1;32m    328\u001b[0m             \u001b[0;32mreturn\u001b[0m \u001b[0mx\u001b[0m\u001b[0;34m\u001b[0m\u001b[0m\n",
      "\u001b[0;31mKeyError\u001b[0m: '?GA'",
      "\nDuring handling of the above exception, another exception occurred:\n",
      "\u001b[0;31mTranslationError\u001b[0m                          Traceback (most recent call last)",
      "\u001b[0;32m<ipython-input-25-a3171e449920>\u001b[0m in \u001b[0;36m<module>\u001b[0;34m()\u001b[0m\n\u001b[0;32m----> 1\u001b[0;31m \u001b[0menamel_seq\u001b[0m\u001b[0;34m[\u001b[0m\u001b[0;36m0\u001b[0m\u001b[0;34m]\u001b[0m\u001b[0;34m.\u001b[0m\u001b[0mtranslate\u001b[0m\u001b[0;34m(\u001b[0m\u001b[0;34m)\u001b[0m\u001b[0;34m\u001b[0m\u001b[0m\n\u001b[0m",
      "\u001b[0;32m~/anaconda3/lib/python3.6/site-packages/Bio/Seq.py\u001b[0m in \u001b[0;36mtranslate\u001b[0;34m(self, table, stop_symbol, to_stop, cds, gap)\u001b[0m\n\u001b[1;32m   1036\u001b[0m \u001b[0;34m\u001b[0m\u001b[0m\n\u001b[1;32m   1037\u001b[0m         protein = _translate_str(str(self), codon_table, stop_symbol, to_stop,\n\u001b[0;32m-> 1038\u001b[0;31m                                  cds, gap=gap)\n\u001b[0m\u001b[1;32m   1039\u001b[0m \u001b[0;34m\u001b[0m\u001b[0m\n\u001b[1;32m   1040\u001b[0m         \u001b[0;32mif\u001b[0m \u001b[0mgap\u001b[0m \u001b[0;32mand\u001b[0m \u001b[0mgap\u001b[0m \u001b[0;32min\u001b[0m \u001b[0mprotein\u001b[0m\u001b[0;34m:\u001b[0m\u001b[0;34m\u001b[0m\u001b[0m\n",
      "\u001b[0;32m~/anaconda3/lib/python3.6/site-packages/Bio/Seq.py\u001b[0m in \u001b[0;36m_translate_str\u001b[0;34m(sequence, table, stop_symbol, to_stop, cds, pos_stop, gap)\u001b[0m\n\u001b[1;32m   2122\u001b[0m             \u001b[0;32melse\u001b[0m\u001b[0;34m:\u001b[0m\u001b[0;34m\u001b[0m\u001b[0m\n\u001b[1;32m   2123\u001b[0m                 raise CodonTable.TranslationError(\n\u001b[0;32m-> 2124\u001b[0;31m                     \"Codon '{0}' is invalid\".format(codon))\n\u001b[0m\u001b[1;32m   2125\u001b[0m     \u001b[0;32mreturn\u001b[0m \u001b[0;34m\"\"\u001b[0m\u001b[0;34m.\u001b[0m\u001b[0mjoin\u001b[0m\u001b[0;34m(\u001b[0m\u001b[0mamino_acids\u001b[0m\u001b[0;34m)\u001b[0m\u001b[0;34m\u001b[0m\u001b[0m\n\u001b[1;32m   2126\u001b[0m \u001b[0;34m\u001b[0m\u001b[0m\n",
      "\u001b[0;31mTranslationError\u001b[0m: Codon '?GA' is invalid"
     ]
    }
   ],
   "source": [
    "enamel_seq[0].translate()"
   ]
  },
  {
   "cell_type": "markdown",
   "metadata": {},
   "source": [
    "What happened? The error says that\n",
    "- `TranslationError: Codon '?GA' is invalid`\n",
    "\n",
    "Since these sequences come from a multiple alignment many of the characters are either `?` if there was no basepair to be aligned at that possition (for example if a sequence started downstream from the others or ended before), or `-` if there was a gap in the alignment. That means that keeping the sequences as they are won't allow us to test our hypothesis. We need to remove these characters.\n",
    "\n",
    "If one googles for ≈ 30 seconds we can find that sequence objects have another method `ungap` that removes any type of character, but only one at the time. So if we want to remove both characters we need to do it in two steps. Let's first show it for a single sequence."
   ]
  },
  {
   "cell_type": "code",
   "execution_count": 26,
   "metadata": {},
   "outputs": [
    {
     "data": {
      "text/plain": [
       "Seq('GAC-ACCCGTATTATTCAGAAGAGATGTATGAA-CAAGATTATGAACAG-CCCA...CTT', IUPACAmbiguousDNA())"
      ]
     },
     "execution_count": 26,
     "metadata": {},
     "output_type": "execute_result"
    }
   ],
   "source": [
    "# Extract single sequence\n",
    "seq = enamel_seq[0]\n",
    "\n",
    "# Remove the missing \"?\" character\n",
    "seq = seq.ungap('?')\n",
    "seq"
   ]
  },
  {
   "cell_type": "markdown",
   "metadata": {},
   "source": [
    "Now let's remove the second character"
   ]
  },
  {
   "cell_type": "code",
   "execution_count": 27,
   "metadata": {},
   "outputs": [
    {
     "data": {
      "text/plain": [
       "Seq('GACACCCGTATTATTCAGAAGAGATGTATGAACAAGATTATGAACAGCCCAAAG...CTT', IUPACAmbiguousDNA())"
      ]
     },
     "execution_count": 27,
     "metadata": {},
     "output_type": "execute_result"
    }
   ],
   "source": [
    "# Remove the gap character \"-\"\n",
    "seq = seq.ungap('-')\n",
    "seq"
   ]
  },
  {
   "cell_type": "markdown",
   "metadata": {},
   "source": [
    "In principle we should be able to translate this sequence, so let's test it!"
   ]
  },
  {
   "cell_type": "code",
   "execution_count": 28,
   "metadata": {},
   "outputs": [
    {
     "name": "stderr",
     "output_type": "stream",
     "text": [
      "/Users/razo/anaconda3/lib/python3.6/site-packages/Bio/Seq.py:2095: BiopythonWarning: Partial codon, len(sequence) not a multiple of three. Explicitly trim the sequence or add trailing N before translation. This may become an error in future.\n",
      "  BiopythonWarning)\n"
     ]
    },
    {
     "data": {
      "text/plain": [
       "Seq('DTRIIQKRCMNKIMNSPKRRIHPKWRAPPQPLPQTPQPLRTIQLNQLYLAQEAV...LFP', HasStopCodon(ExtendedIUPACProtein(), '*'))"
      ]
     },
     "execution_count": 28,
     "metadata": {},
     "output_type": "execute_result"
    }
   ],
   "source": [
    "seq.translate()"
   ]
  },
  {
   "cell_type": "markdown",
   "metadata": {},
   "source": [
    "It worked! Biopython is giving us a warining message that our sequence is not a multiple of three and suggest that we trim the sequence because in the future this could be an error. We can easily do that by figuring out the residual of dividing the length of the sequence by three. That is `len(seq)` [modulo](https://en.wikipedia.org/wiki/Modulo_operation) 3."
   ]
  },
  {
   "cell_type": "code",
   "execution_count": 29,
   "metadata": {},
   "outputs": [
    {
     "data": {
      "text/plain": [
       "Seq('GACACCCGTATTATTCAGAAGAGATGTATGAACAAGATTATGAACAGCCCAAAG...CCT', IUPACAmbiguousDNA())"
      ]
     },
     "execution_count": 29,
     "metadata": {},
     "output_type": "execute_result"
    }
   ],
   "source": [
    "# finding number of letters to trim\n",
    "trim_char = len(seq) % 3\n",
    "\n",
    "# trim sequence to translate it\n",
    "trim_seq = seq[:-trim_char]\n",
    "trim_seq"
   ]
  },
  {
   "cell_type": "markdown",
   "metadata": {},
   "source": [
    "The syntax that we used `[:-trim_char]` means that Python should take all the characters up to the `trim_char` counting backwards. Try defining a list yourself with multiple objects and index it using `[-1]`. You'll see that it will return the last element of the list. On the other hand if you index it using `[:-1]` it will return all elements except the last one.\n",
    "\n",
    "Now we should be able to translate this sequence without the warning."
   ]
  },
  {
   "cell_type": "code",
   "execution_count": 30,
   "metadata": {},
   "outputs": [
    {
     "data": {
      "text/plain": [
       "Seq('DTRIIQKRCMNKIMNSPKRRIHPKWRAPPQPLPQTPQPLRTIQLNQLYLAQEAV...LFP', HasStopCodon(ExtendedIUPACProtein(), '*'))"
      ]
     },
     "execution_count": 30,
     "metadata": {},
     "output_type": "execute_result"
    }
   ],
   "source": [
    "trim_seq.translate()"
   ]
  },
  {
   "cell_type": "markdown",
   "metadata": {},
   "source": [
    "Excellent! Let's now clean all the sequences again using the powerful list comprehensions."
   ]
  },
  {
   "cell_type": "code",
   "execution_count": 31,
   "metadata": {},
   "outputs": [],
   "source": [
    "# Let's remove the missing \"?\" and gap \"-\" characters from all records\n",
    "enamel_clean_seq = [seq.ungap('?') for seq in enamel_seq]\n",
    "enamel_clean_seq = [seq.ungap('-') for seq in enamel_clean_seq]"
   ]
  },
  {
   "cell_type": "markdown",
   "metadata": {},
   "source": [
    "The function `translate` just translates one of the ORFs. But we need to translate all three ORFs in order to test the hypothesis that Meredith et al. presented.\n",
    "\n",
    "What we are going to do is we are going to build a lookup table with the following columns:\n",
    "- name : To save the name of the species\n",
    "- frame : To save the number of ORF\n",
    "- DNA : To save the associated DNA sequence\n",
    "- protein : To save the translation of the DNA sequence for the given frame\n",
    "\n",
    "This means that each of the species will have 3 entires in the table, one per ORF. For this we will use the `DataFrame` structure from the powerful `pandas` package. Over the next tutorials we might make more and more use of this powerful package since it is one of the cornerstones of the Python environment that allows us to manipulate data very easily.\n",
    "\n",
    "First let's import the package. Again normally this will go in the very first cell of the notebook, but since we are just learning let's import it here."
   ]
  },
  {
   "cell_type": "code",
   "execution_count": 32,
   "metadata": {},
   "outputs": [],
   "source": [
    "import pandas as pd # For data manipulation"
   ]
  },
  {
   "cell_type": "markdown",
   "metadata": {},
   "source": [
    "Now we will initialize an empty data frame that already has the columns that we indicated we want."
   ]
  },
  {
   "cell_type": "code",
   "execution_count": 33,
   "metadata": {},
   "outputs": [
    {
     "data": {
      "text/html": [
       "<div>\n",
       "<style scoped>\n",
       "    .dataframe tbody tr th:only-of-type {\n",
       "        vertical-align: middle;\n",
       "    }\n",
       "\n",
       "    .dataframe tbody tr th {\n",
       "        vertical-align: top;\n",
       "    }\n",
       "\n",
       "    .dataframe thead th {\n",
       "        text-align: right;\n",
       "    }\n",
       "</style>\n",
       "<table border=\"1\" class=\"dataframe\">\n",
       "  <thead>\n",
       "    <tr style=\"text-align: right;\">\n",
       "      <th></th>\n",
       "      <th>name</th>\n",
       "      <th>frame</th>\n",
       "      <th>DNA</th>\n",
       "      <th>protein</th>\n",
       "    </tr>\n",
       "  </thead>\n",
       "  <tbody>\n",
       "  </tbody>\n",
       "</table>\n",
       "</div>"
      ],
      "text/plain": [
       "Empty DataFrame\n",
       "Columns: [name, frame, DNA, protein]\n",
       "Index: []"
      ]
     },
     "execution_count": 33,
     "metadata": {},
     "output_type": "execute_result"
    }
   ],
   "source": [
    "# Initialize DataFrame to save translations for each ORF.\n",
    "columns = ['name', 'frame', 'DNA', 'protein']\n",
    "df_prot = pd.DataFrame(columns=columns)\n",
    "df_prot"
   ]
  },
  {
   "cell_type": "markdown",
   "metadata": {},
   "source": [
    "The next thing we need to do is loop through each of the sequences, and then loop through each of the 3 ORFs translating at each iteration of the sequence. Let's list the steps that we need to follow then:\n",
    "1. Extract the species name.\n",
    "2. Find the length of the sequence given the frame\n",
    "3. Extract the corresponding DNA sequence by trimming it from both sides, on the left side to choose the current ORF, and on the right side to make it a multiple of three.\n",
    "4. Translate the DNA sequence into amino-acids.\n",
    "5. Convert all the relevant entries into a [`pandas Series`](https://pandas.pydata.org/pandas-docs/stable/dsintro.html). This step is necessary because if we want to add a new row to our `DataFrame` it has to be via a `Series` object.\n",
    "6. Append the entry into the DataFrame.\n",
    "\n",
    "Let's then implement this!"
   ]
  },
  {
   "cell_type": "code",
   "execution_count": 34,
   "metadata": {},
   "outputs": [
    {
     "data": {
      "text/html": [
       "<div>\n",
       "<style scoped>\n",
       "    .dataframe tbody tr th:only-of-type {\n",
       "        vertical-align: middle;\n",
       "    }\n",
       "\n",
       "    .dataframe tbody tr th {\n",
       "        vertical-align: top;\n",
       "    }\n",
       "\n",
       "    .dataframe thead th {\n",
       "        text-align: right;\n",
       "    }\n",
       "</style>\n",
       "<table border=\"1\" class=\"dataframe\">\n",
       "  <thead>\n",
       "    <tr style=\"text-align: right;\">\n",
       "      <th></th>\n",
       "      <th>name</th>\n",
       "      <th>frame</th>\n",
       "      <th>DNA</th>\n",
       "      <th>protein</th>\n",
       "    </tr>\n",
       "  </thead>\n",
       "  <tbody>\n",
       "    <tr>\n",
       "      <th>0</th>\n",
       "      <td>Vombatus_ursinus</td>\n",
       "      <td>0</td>\n",
       "      <td>GACACCCGTATTATTCAGAAGAGATGTATGAACAAGATTATGAACA...</td>\n",
       "      <td>DTRIIQKRCMNKIMNSPKRRIHPKWRAPPQPLPQTPQPLRTIQLNQ...</td>\n",
       "    </tr>\n",
       "    <tr>\n",
       "      <th>1</th>\n",
       "      <td>Vombatus_ursinus</td>\n",
       "      <td>1</td>\n",
       "      <td>ACACCCGTATTATTCAGAAGAGATGTATGAACAAGATTATGAACAG...</td>\n",
       "      <td>TPVLFRRDV*TRL*TAQRGGSTQSGEHHLSPSPKHHSP*EQFNSTN...</td>\n",
       "    </tr>\n",
       "    <tr>\n",
       "      <th>2</th>\n",
       "      <td>Vombatus_ursinus</td>\n",
       "      <td>2</td>\n",
       "      <td>CACCCGTATTATTCAGAAGAGATGTATGAACAAGATTATGAACAGC...</td>\n",
       "      <td>HPYYSEEMYEQDYEQPKEEDPPKVESTTSAPPPNTTALENNSTQPT...</td>\n",
       "    </tr>\n",
       "    <tr>\n",
       "      <th>3</th>\n",
       "      <td>Monodelphis_domestica</td>\n",
       "      <td>0</td>\n",
       "      <td>GACCCCCATATTATTCAGAAGAGATGTTTGAACAAGACTTTGAAAA...</td>\n",
       "      <td>DPHIIQKRCLNKTLKSPKRKIPPK*RVPPQPLQRTPRFLRPIQLKQ...</td>\n",
       "    </tr>\n",
       "    <tr>\n",
       "      <th>4</th>\n",
       "      <td>Monodelphis_domestica</td>\n",
       "      <td>1</td>\n",
       "      <td>ACCCCCATATTATTCAGAAGAGATGTTTGAACAAGACTTTGAAAAG...</td>\n",
       "      <td>TPILFRRDV*TRL*KAQRGRSPQSREYHRSPSNELHGS*DQFNSSN...</td>\n",
       "    </tr>\n",
       "  </tbody>\n",
       "</table>\n",
       "</div>"
      ],
      "text/plain": [
       "                    name frame  \\\n",
       "0       Vombatus_ursinus     0   \n",
       "1       Vombatus_ursinus     1   \n",
       "2       Vombatus_ursinus     2   \n",
       "3  Monodelphis_domestica     0   \n",
       "4  Monodelphis_domestica     1   \n",
       "\n",
       "                                                 DNA  \\\n",
       "0  GACACCCGTATTATTCAGAAGAGATGTATGAACAAGATTATGAACA...   \n",
       "1  ACACCCGTATTATTCAGAAGAGATGTATGAACAAGATTATGAACAG...   \n",
       "2  CACCCGTATTATTCAGAAGAGATGTATGAACAAGATTATGAACAGC...   \n",
       "3  GACCCCCATATTATTCAGAAGAGATGTTTGAACAAGACTTTGAAAA...   \n",
       "4  ACCCCCATATTATTCAGAAGAGATGTTTGAACAAGACTTTGAAAAG...   \n",
       "\n",
       "                                             protein  \n",
       "0  DTRIIQKRCMNKIMNSPKRRIHPKWRAPPQPLPQTPQPLRTIQLNQ...  \n",
       "1  TPVLFRRDV*TRL*TAQRGGSTQSGEHHLSPSPKHHSP*EQFNSTN...  \n",
       "2  HPYYSEEMYEQDYEQPKEEDPPKVESTTSAPPPNTTALENNSTQPT...  \n",
       "3  DPHIIQKRCLNKTLKSPKRKIPPK*RVPPQPLQRTPRFLRPIQLKQ...  \n",
       "4  TPILFRRDV*TRL*KAQRGRSPQSREYHRSPSNELHGS*DQFNSSN...  "
      ]
     },
     "execution_count": 34,
     "metadata": {},
     "output_type": "execute_result"
    }
   ],
   "source": [
    "# Loop through each of the sequences\n",
    "for i, seq in enumerate(enamel_clean_seq):\n",
    "    \n",
    "    # 1. Extract the species name\n",
    "    species_name = enamel_name[i]\n",
    "    \n",
    "    # Loop through each of the available ORFs\n",
    "    for frame in range(3):\n",
    "        \n",
    "        # 2. Find the length of the sequence given the current ORF \n",
    "        # For this we will take the sequence from position frame \n",
    "        # (either 0, 1 or 2) all the way to the end. That is indicated as \n",
    "        # [frame:]. Then we will subtract the length modulo 3 to trim the\n",
    "        # extra residues.\n",
    "        orf_len = len(seq[frame:]) - len(seq[frame:]) % 3\n",
    "        \n",
    "        # 3. Extract the correspondind DNA sequence.\n",
    "        orf_seq = seq[frame:frame+orf_len]\n",
    "        \n",
    "        # 4. Translate the DNA sequence\n",
    "        orf_prot = orf_seq.translate()\n",
    "        \n",
    "        # 5. Convert into pandas Series.\n",
    "        # Series don't have column names, but they have \"index\" names. So\n",
    "        # we will assign the same names to these indexes as the column names\n",
    "        # of our DataFrame. We will also convert the sequences to strings since\n",
    "        # Pandas saves Bio sequences in a weird format\n",
    "        orf_series = pd.Series([species_name, frame, str(orf_seq), str(orf_prot)],\n",
    "                              index=columns)\n",
    "        \n",
    "        # 6. Append entry to the DataFrame\n",
    "        df_prot = df_prot.append(orf_series, ignore_index=True)\n",
    "\n",
    "# Print the head of the table\n",
    "df_prot.head()"
   ]
  },
  {
   "cell_type": "markdown",
   "metadata": {},
   "source": [
    "For the `for` loop we used the convenient `enumerate` function. What this does is that it assigns an index to each of the objects we loop through. In our case we indicated `for i, seq in enumerate(enamel_clean_seq)`. This means that the variable `seq` will contain the actual sequence object, and the variable `i` will have the index (0, 1, 2,$\\ldots$) that enumerates each of the sequences."
   ]
  },
  {
   "cell_type": "markdown",
   "metadata": {},
   "source": [
    "Once we have all of the protein sequences we need to count the number of stop codons per sequence. These codons are indicated by `*` symbols. So it is just a matter of counting the number of these characteres per entry in our data frame. For this we can use the method `.count()` associated with strings. Let's quickly look at an example."
   ]
  },
  {
   "cell_type": "code",
   "execution_count": 35,
   "metadata": {},
   "outputs": [
    {
     "name": "stdout",
     "output_type": "stream",
     "text": [
      "number of l in the string:  3\n",
      "number of o in the string:  2\n"
     ]
    }
   ],
   "source": [
    "# Define a simple sequence\n",
    "string = 'hello, world!'\n",
    "# Count the numer of `l` characters\n",
    "print('number of l in the string: ', string.count('l'))\n",
    "print('number of o in the string: ', string.count('o'))"
   ]
  },
  {
   "cell_type": "markdown",
   "metadata": {},
   "source": [
    "Now let's loop through each of the entries in our data frame, saving at each iteration the number of `*` characters. Let's then append these entries as an extra column to our DataFrame."
   ]
  },
  {
   "cell_type": "code",
   "execution_count": 36,
   "metadata": {},
   "outputs": [
    {
     "data": {
      "text/html": [
       "<div>\n",
       "<style scoped>\n",
       "    .dataframe tbody tr th:only-of-type {\n",
       "        vertical-align: middle;\n",
       "    }\n",
       "\n",
       "    .dataframe tbody tr th {\n",
       "        vertical-align: top;\n",
       "    }\n",
       "\n",
       "    .dataframe thead th {\n",
       "        text-align: right;\n",
       "    }\n",
       "</style>\n",
       "<table border=\"1\" class=\"dataframe\">\n",
       "  <thead>\n",
       "    <tr style=\"text-align: right;\">\n",
       "      <th></th>\n",
       "      <th>name</th>\n",
       "      <th>frame</th>\n",
       "      <th>num_stops</th>\n",
       "    </tr>\n",
       "  </thead>\n",
       "  <tbody>\n",
       "    <tr>\n",
       "      <th>0</th>\n",
       "      <td>Vombatus_ursinus</td>\n",
       "      <td>0</td>\n",
       "      <td>23</td>\n",
       "    </tr>\n",
       "    <tr>\n",
       "      <th>1</th>\n",
       "      <td>Vombatus_ursinus</td>\n",
       "      <td>1</td>\n",
       "      <td>71</td>\n",
       "    </tr>\n",
       "    <tr>\n",
       "      <th>2</th>\n",
       "      <td>Vombatus_ursinus</td>\n",
       "      <td>2</td>\n",
       "      <td>0</td>\n",
       "    </tr>\n",
       "    <tr>\n",
       "      <th>3</th>\n",
       "      <td>Monodelphis_domestica</td>\n",
       "      <td>0</td>\n",
       "      <td>31</td>\n",
       "    </tr>\n",
       "    <tr>\n",
       "      <th>4</th>\n",
       "      <td>Monodelphis_domestica</td>\n",
       "      <td>1</td>\n",
       "      <td>72</td>\n",
       "    </tr>\n",
       "  </tbody>\n",
       "</table>\n",
       "</div>"
      ],
      "text/plain": [
       "                    name frame  num_stops\n",
       "0       Vombatus_ursinus     0         23\n",
       "1       Vombatus_ursinus     1         71\n",
       "2       Vombatus_ursinus     2          0\n",
       "3  Monodelphis_domestica     0         31\n",
       "4  Monodelphis_domestica     1         72"
      ]
     },
     "execution_count": 36,
     "metadata": {},
     "output_type": "execute_result"
    }
   ],
   "source": [
    "# Initialize list to save open reading frames\n",
    "stop_codons = []\n",
    "\n",
    "# Loop through protein sequences counting stop codons\n",
    "for prot in df_prot.protein:\n",
    "    stop_codons.append(prot.count('*'))\n",
    "\n",
    "# Append number of stop codons as column to the dataframe\n",
    "df_prot['num_stops'] = stop_codons\n",
    "\n",
    "# Print head of expanded DataFrame\n",
    "df_prot[['name', 'frame', 'num_stops']].head()"
   ]
  },
  {
   "cell_type": "markdown",
   "metadata": {},
   "source": [
    "Now that we have the number of stop codons per sequence we need to find which species have at least one stop codon in all 3 ORFs. One of the powerful features about a `pandas` `DataFrame` is the way we can access the data. For example let's say we are interested in all the entries that have the aardvark species *Orycteropus afer*. For this we can use boolean indexing. \n",
    "\n",
    "Boolean indexing allows us to feed an array full of `True` and `False` statements as an index for our DataFrame and it will only return the rows that were true. Let's look at this example."
   ]
  },
  {
   "cell_type": "code",
   "execution_count": 38,
   "metadata": {},
   "outputs": [
    {
     "data": {
      "text/html": [
       "<div>\n",
       "<style scoped>\n",
       "    .dataframe tbody tr th:only-of-type {\n",
       "        vertical-align: middle;\n",
       "    }\n",
       "\n",
       "    .dataframe tbody tr th {\n",
       "        vertical-align: top;\n",
       "    }\n",
       "\n",
       "    .dataframe thead th {\n",
       "        text-align: right;\n",
       "    }\n",
       "</style>\n",
       "<table border=\"1\" class=\"dataframe\">\n",
       "  <thead>\n",
       "    <tr style=\"text-align: right;\">\n",
       "      <th></th>\n",
       "      <th>name</th>\n",
       "      <th>frame</th>\n",
       "      <th>DNA</th>\n",
       "      <th>protein</th>\n",
       "      <th>num_stops</th>\n",
       "    </tr>\n",
       "  </thead>\n",
       "  <tbody>\n",
       "    <tr>\n",
       "      <th>99</th>\n",
       "      <td>Orycteropus_afer</td>\n",
       "      <td>0</td>\n",
       "      <td>CATCCTCCTTATTTTKCAGATGAGATGTTTGAACAAGATTTTGAAA...</td>\n",
       "      <td>HPPYFXDEMFEQDFEKPKEKDPPKAESPATEPTANSTVPETNSTRP...</td>\n",
       "      <td>9</td>\n",
       "    </tr>\n",
       "    <tr>\n",
       "      <th>100</th>\n",
       "      <td>Orycteropus_afer</td>\n",
       "      <td>1</td>\n",
       "      <td>ATCCTCCTTATTTTKCAGATGAGATGTTTGAACAAGATTTTGAAAA...</td>\n",
       "      <td>ILLIXQMRCLNKILKNPKKKIPLKQRVQLQNPQLIQLFLRLIQPDQ...</td>\n",
       "      <td>20</td>\n",
       "    </tr>\n",
       "    <tr>\n",
       "      <th>101</th>\n",
       "      <td>Orycteropus_afer</td>\n",
       "      <td>2</td>\n",
       "      <td>TCCTCCTTATTTTKCAGATGAGATGTTTGAACAAGATTTTGAAAAA...</td>\n",
       "      <td>SSLFXR*DV*TRF*KTQRKRSP*SRESSYRTHS*FNCS*D*FNPTK...</td>\n",
       "      <td>76</td>\n",
       "    </tr>\n",
       "  </tbody>\n",
       "</table>\n",
       "</div>"
      ],
      "text/plain": [
       "                 name frame  \\\n",
       "99   Orycteropus_afer     0   \n",
       "100  Orycteropus_afer     1   \n",
       "101  Orycteropus_afer     2   \n",
       "\n",
       "                                                   DNA  \\\n",
       "99   CATCCTCCTTATTTTKCAGATGAGATGTTTGAACAAGATTTTGAAA...   \n",
       "100  ATCCTCCTTATTTTKCAGATGAGATGTTTGAACAAGATTTTGAAAA...   \n",
       "101  TCCTCCTTATTTTKCAGATGAGATGTTTGAACAAGATTTTGAAAAA...   \n",
       "\n",
       "                                               protein  num_stops  \n",
       "99   HPPYFXDEMFEQDFEKPKEKDPPKAESPATEPTANSTVPETNSTRP...          9  \n",
       "100  ILLIXQMRCLNKILKNPKKKIPLKQRVQLQNPQLIQLFLRLIQPDQ...         20  \n",
       "101  SSLFXR*DV*TRF*KTQRKRSP*SRESSYRTHS*FNCS*D*FNPTK...         76  "
      ]
     },
     "execution_count": 38,
     "metadata": {},
     "output_type": "execute_result"
    }
   ],
   "source": [
    "df_prot[df_prot.name == 'Orycteropus_afer']"
   ]
  },
  {
   "cell_type": "markdown",
   "metadata": {},
   "source": [
    "This is super awesome! We can use this to extract species by species the number of stop codons and then ask if **all** of them are greater than zero or not. This should return `True` if each ORF had at least one stop codon and `False` otherwise.\n",
    "\n",
    "Let's look at how this would work. Using the same example as above let's ask if all the `num_stops` entries from the aardvark are greater than zero."
   ]
  },
  {
   "cell_type": "code",
   "execution_count": 39,
   "metadata": {},
   "outputs": [
    {
     "data": {
      "text/plain": [
       "99     True\n",
       "100    True\n",
       "101    True\n",
       "Name: num_stops, dtype: bool"
      ]
     },
     "execution_count": 39,
     "metadata": {},
     "output_type": "execute_result"
    }
   ],
   "source": [
    "df_prot[df_prot.name == 'Orycteropus_afer'].num_stops > 0"
   ]
  },
  {
   "cell_type": "markdown",
   "metadata": {},
   "source": [
    "As it is this returns the individual boolean statements. If we use the method `.all()` this will return a single boolean variable. It will be `True` **if and only if** all entries are `True`, and `False` otherwise."
   ]
  },
  {
   "cell_type": "code",
   "execution_count": 40,
   "metadata": {},
   "outputs": [
    {
     "data": {
      "text/plain": [
       "True"
      ]
     },
     "execution_count": 40,
     "metadata": {},
     "output_type": "execute_result"
    }
   ],
   "source": [
    "(df_prot[df_prot.name == 'Orycteropus_afer'].num_stops > 0).all()"
   ]
  },
  {
   "cell_type": "markdown",
   "metadata": {},
   "source": [
    "Let's now generate a new `DataFrame` where we save the name of the species and a column named `all_stops` that contains a boolean variable indicating if all ORFs had at least one stop codon."
   ]
  },
  {
   "cell_type": "code",
   "execution_count": 43,
   "metadata": {},
   "outputs": [
    {
     "data": {
      "text/html": [
       "<div>\n",
       "<style scoped>\n",
       "    .dataframe tbody tr th:only-of-type {\n",
       "        vertical-align: middle;\n",
       "    }\n",
       "\n",
       "    .dataframe tbody tr th {\n",
       "        vertical-align: top;\n",
       "    }\n",
       "\n",
       "    .dataframe thead th {\n",
       "        text-align: right;\n",
       "    }\n",
       "</style>\n",
       "<table border=\"1\" class=\"dataframe\">\n",
       "  <thead>\n",
       "    <tr style=\"text-align: right;\">\n",
       "      <th></th>\n",
       "      <th>name</th>\n",
       "      <th>all_stops</th>\n",
       "    </tr>\n",
       "  </thead>\n",
       "  <tbody>\n",
       "    <tr>\n",
       "      <th>0</th>\n",
       "      <td>Vombatus_ursinus</td>\n",
       "      <td>False</td>\n",
       "    </tr>\n",
       "    <tr>\n",
       "      <th>1</th>\n",
       "      <td>Monodelphis_domestica</td>\n",
       "      <td>False</td>\n",
       "    </tr>\n",
       "    <tr>\n",
       "      <th>2</th>\n",
       "      <td>Eubalaena_glacialis</td>\n",
       "      <td>True</td>\n",
       "    </tr>\n",
       "    <tr>\n",
       "      <th>3</th>\n",
       "      <td>Eubalaena_australis</td>\n",
       "      <td>True</td>\n",
       "    </tr>\n",
       "    <tr>\n",
       "      <th>4</th>\n",
       "      <td>Megaptera_novaeangliae</td>\n",
       "      <td>True</td>\n",
       "    </tr>\n",
       "  </tbody>\n",
       "</table>\n",
       "</div>"
      ],
      "text/plain": [
       "                     name all_stops\n",
       "0        Vombatus_ursinus     False\n",
       "1   Monodelphis_domestica     False\n",
       "2     Eubalaena_glacialis      True\n",
       "3     Eubalaena_australis      True\n",
       "4  Megaptera_novaeangliae      True"
      ]
     },
     "execution_count": 43,
     "metadata": {},
     "output_type": "execute_result"
    }
   ],
   "source": [
    "# Initialize a DataFrame to save per species whether or not all \n",
    "# ORFs have stop codons\n",
    "df_stops = pd.DataFrame(columns=['name', 'all_stops'])\n",
    "\n",
    "# Loop through species and ask if all frames have a stop codon\n",
    "for species in enamel_name:\n",
    "    # Extract the number of stops for the current species\n",
    "    stops = df_prot[df_prot.name == species].num_stops\n",
    "    # Ask if all ORFs have stop codons\n",
    "    species_stop = (stops > 0).all()\n",
    "    # Append result to DataFrame\n",
    "    df_stops = df_stops.append(pd.Series([species, species_stop],\n",
    "                                            index=['name', 'all_stops']),\n",
    "                               ignore_index=True)\n",
    "\n",
    "# Print header of DataFrame\n",
    "df_stops.head()"
   ]
  },
  {
   "cell_type": "markdown",
   "metadata": {},
   "source": [
    "Eureka! We now have the information we need to test Darwin's hypothesis. Let's find which species had a stop codon in all three ORFs. We can again use the powerful concept of boolean indexing asking which rows have a `True` in the `all_stops` column."
   ]
  },
  {
   "cell_type": "code",
   "execution_count": 42,
   "metadata": {},
   "outputs": [
    {
     "data": {
      "text/plain": [
       "2         Eubalaena_glacialis\n",
       "3         Eubalaena_australis\n",
       "4      Megaptera_novaeangliae\n",
       "5           Caperea_marginata\n",
       "6       Eschrichtius_robustus\n",
       "7                  Kogia_sima\n",
       "8             Kogia_breviceps\n",
       "24         Manis_pentadactyla\n",
       "25            Manis_tricuspis\n",
       "33           Orycteropus_afer\n",
       "39       Bradypus_tridactylus\n",
       "40       Choloepus_didactylus\n",
       "41        Choloepus_hoffmanni\n",
       "42    Myrmecophaga_tridactyla\n",
       "43      Tamandua_tetradactyla\n",
       "44        Cyclopes_didactylus\n",
       "45       Dasypus_novemcinctus\n",
       "46         Tolypeutes_matacus\n",
       "47    Chaetophractus_villosus\n",
       "48      Euphractus_sexcinctus\n",
       "Name: name, dtype: object"
      ]
     },
     "execution_count": 42,
     "metadata": {},
     "output_type": "execute_result"
    }
   ],
   "source": [
    "df_stops[df_stops.all_stops == True].name"
   ]
  },
  {
   "cell_type": "markdown",
   "metadata": {},
   "source": [
    "Let's compare this list to the result from the Meredith et al. paper.\n",
    "\n",
    "![](images/enamel_tree.png)"
   ]
  },
  {
   "cell_type": "markdown",
   "metadata": {},
   "source": [
    "A close inspection of this tree will reveal that the 20 species that we found to have stop codons in all ORFs are all of the species in this tree that either have no teeth or their teeth contain no enamel! So yet another proof of the predictive power of Darwin's theory."
   ]
  },
  {
   "cell_type": "markdown",
   "metadata": {},
   "source": [
    "It is important to highlight that the sequences used in this exercise covered ≈ 80% of the length of the *ENAM* gene. That is why we don't worry about the location of the stop codons since if present they would at least remove 20% of the gene, making it most likely useless."
   ]
  },
  {
   "cell_type": "markdown",
   "metadata": {},
   "source": [
    "## What we've learned\n",
    "\n",
    "In this tutorial we learned how to perform basic sequence manipulations such as removing gaps, indexing and translating from DNA to amino-acids.\n",
    "\n",
    "We also learned about the power of using `pandas` to contain and manipulate our data.\n",
    "\n",
    "All of this with the final goal of testing a prediction that falls directly from Darwin's theory and our modern understanding of genetics. This hopefully gave you an idea of how powerful coding can be in the modern era of DNA sequencing."
   ]
  }
 ],
 "metadata": {
  "kernelspec": {
   "display_name": "Python 3",
   "language": "python",
   "name": "python3"
  },
  "language_info": {
   "codemirror_mode": {
    "name": "ipython",
    "version": 3
   },
   "file_extension": ".py",
   "mimetype": "text/x-python",
   "name": "python",
   "nbconvert_exporter": "python",
   "pygments_lexer": "ipython3",
   "version": "3.6.4"
  }
 },
 "nbformat": 4,
 "nbformat_minor": 2
}
