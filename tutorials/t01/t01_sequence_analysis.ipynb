{
 "cells": [
  {
   "cell_type": "markdown",
   "metadata": {},
   "source": [
    "# Tutorial X: Basic DNA Sequence Analysis"
   ]
  },
  {
   "cell_type": "markdown",
   "metadata": {},
   "source": [
    "© 2020 Griffin Chure, Soichi Hirokawa and Manuel Razo. This work is licensed under a [Creative Commons Attribution License CC-BY 4.0](https://creativecommons.org/licenses/by/4.0/). All code contained herein is licensed under an [MIT license](https://opensource.org/licenses/MIT)  "
   ]
  },
  {
   "cell_type": "markdown",
   "metadata": {},
   "source": [
    "--- \n"
   ]
  },
  {
   "cell_type": "code",
   "execution_count": 1,
   "metadata": {},
   "outputs": [],
   "source": [
    "import io # To be able to read strings as files\n",
    "import string # To extract a list of lowercase letters\n",
    "import numpy as np\n",
    "import pandas as pd\n",
    "\n",
    "# Import Biopython for file I/O.\n",
    "import Bio.SeqIO\n",
    "import Bio.AlignIO\n",
    "import Bio.Phylo\n",
    "\n",
    "# Import plotting tools\n",
    "import matplotlib.pyplot as plt\n",
    "import seaborn as sns\n",
    "sns.set()"
   ]
  },
  {
   "cell_type": "markdown",
   "metadata": {},
   "source": [
    "In this tutorial, we'll cover some basics of using Python to read data from a file into memory and how to examine the dispersal patterns of a famous reptile by looking at the sequence of its mitochondrial DNA. "
   ]
  },
  {
   "cell_type": "markdown",
   "metadata": {},
   "source": [
    "##  The curious case of *Mabuya atlantica*"
   ]
  },
  {
   "cell_type": "markdown",
   "metadata": {},
   "source": [
    "Approximately 200 miles off the coast of Brazil exists a small (and quite beautiful) archipelago named [Fernando de Noronha](https://en.wikipedia.org/wiki/Fernando_de_Noronha). The twenty one islands and islets of this archipelago are volcanic in origin and have many endemic plant and animal species. One curious inhabitant of the archipelago is [*Mabuya atlantica*](https://en.wikipedia.org/wiki/Noronha_skink) (also known as the Noronha skink), which is phylogenetically placed along with the African species of *Trachylepis*. Because the archipelago was formed from volcanoes, there was no way that these lizards traveled to the island by land. How did they arrive at the island? In 1888, Alfred Russel Wallace proposed that perhaps the skink arrived on the archipelago by floating on a raft of vegetation across the open ocean, although this trip was estimated to take around 150 days using the knowledge of the oceanic currents from Africa to South America, as is shown in the figure below. \n",
    "\n",
    "<center>\n",
    "    <img src=\"currents.png\" width=\"50%\">\n",
    "    </center>\n",
    "\n",
    "\n",
    "While the exact trajectory of this 'improbable voyage' is still up for debate, the phylogenetic placement of this species is fairly certain. This placement was not performed through morphology but through DNA sequence analysis. In this tutorial, we will use the data from [S. Carranza and E. N. Arnold](http://www.tandfonline.com/doi/abs/10.1017/S1477200003001099?journalCode=tsab20) who sequenced a component of the mitochondrial DNA from a large variety of skinks across the world and from Fernando de Noronha. We will learn how to read in the DNA sequences and score them by the similarity of their sequence to test this hypothesis. "
   ]
  },
  {
   "cell_type": "markdown",
   "metadata": {},
   "source": [
    "##  Loading in sequences"
   ]
  },
  {
   "cell_type": "markdown",
   "metadata": {},
   "source": [
    "Before we can do any sequence comparisons, we must first load the [sequences](http://www.rpgroup.caltech.edu/courses/bi1_2017/data/mabuya_atlantica.zip) from the two text files into our computer to do the analysis. To become familiar with the structure of these documents, let's take a look at them. We can use the shell command `head` to take a look at a small section of the head of the text file. To have access to various shell commands in the Jupyter notebook, we must first type an exclamation point (`!`)."
   ]
  },
  {
   "cell_type": "code",
   "execution_count": 3,
   "metadata": {},
   "outputs": [
    {
     "name": "stdout",
     "output_type": "stream",
     "text": [
      ">Mabuya atlantica isolate 1, Fernando de Noronha\n",
      "ttgtcttctaaataaagaccagtatgaacggctaaatgaggacaaacctgtctcttttaa\n",
      "ctaatcagtgaaactgatctcccagtacaaaagctgggatacaaacataagacgagaaga\n",
      "ccccgtggagcttaaaacaaaaccaccaatcca--c------gccctgg-accctggtgg\n",
      "actgttttgagttggggcgacttcggaataaaaagaaacttccgagcacagaaccac-aa\n",
      "attctaaccaaggccaacaagcctaagcata---taa-ctgacccggccc--acgccgat\n",
      "caacgaaccaagttaccccggggataacagcgctatcttcttcaagagtccctatcaaca\n",
      "agaaggtttacgacctcgatgttggatcaggacacccaaatggtgcagccgctattaaag\n",
      "gttcgtttgttcaacgatt\n"
     ]
    }
   ],
   "source": [
    "# Look at the sequences from Fernando de Noronha\n",
    "! head ../data/mabuya_atlantica/noronha_mabuya.txt"
   ]
  },
  {
   "cell_type": "markdown",
   "metadata": {},
   "source": [
    "This line should give the following output:\n",
    "\n",
    "`>Mabuya atlantica isolate 1, Fernando de Noronha\n",
    "ttgtcttctaaataaagaccagtatgaacggctaaatgaggacaaacctgtctcttttaa\n",
    "ctaatcagtgaaactgatctcccagtacaaaagctgggatacaaacataagacgagaaga\n",
    "ccccgtggagcttaaaacaaaaccaccaatcca--c------gccctgg-accctggtgg\n",
    "actgttttgagttggggcgacttcggaataaaaagaaacttccgagcacagaaccac-aa\n",
    "attctaaccaaggccaacaagcctaagcata---taa-ctgacccggccc--acgccgat\n",
    "caacgaaccaagttaccccggggataacagcgctatcttcttcaagagtccctatcaaca\n",
    "agaaggtttacgacctcgatgttggatcaggacacccaaatggtgcagccgctattaaag\n",
    "gttcgtttgttcaacgatt`"
   ]
  },
  {
   "cell_type": "markdown",
   "metadata": {},
   "source": [
    "We can see that the file begins with a carrot '`>`' followed by some information about that specific sample. This is a standard sequence format known as [FASTA format](https://en.wikipedia.org/wiki/FASTA_format). There are [many sequence storage types](https://www.genomatix.de/online_help/help/sequence_formats.html) used in modern sequence analysis and Biopython [is capable of reading many of them](http://biopython.org/wiki/SeqIO). We can also see from the description that the first sample is the first isolate from the island Fernando de Noronha. Below this line is the actual DNA sequence. This sequence is composed of `atgc` and '`-`'. The letters correspond to the base identity at that position while the dash '`-`' indicates an insertion or deletion when the sequences were aligned to each other (see [this wonderful blog post](http://bitesizebio.com/9445/the-beginners-guide-to-dna-sequence-alignment/) for a primer on DNA alignment). Rather than copying and pasting these sequences into our notebooks to actually do the comparison, we'll use the [popular bioinformatics package Biopython](biopython.org) to load in these sequences."
   ]
  },
  {
   "cell_type": "markdown",
   "metadata": {},
   "source": [
    "Biopython can be used to do a wide variety of operations on DNA sequences. We will be using it for one rather simple purpose $-$ to load the sequences into memory. To do so, we will need to open the file, tell Biopython to read the contents, and then close the file. We'll first load the sequence from Fernando de Noronha."
   ]
  },
  {
   "cell_type": "code",
   "execution_count": 5,
   "metadata": {},
   "outputs": [],
   "source": [
    "# Open the file with sequences from Fernando de Noronha\n",
    "with open('../data/mabuya_atlantica/noronha_mabuya.txt', 'r') as seq:\n",
    "    noronha_file = Bio.SeqIO.parse(seq, 'fasta')\n",
    "    noronha_sequences = [record for record in noronha_file]"
   ]
  },
  {
   "cell_type": "markdown",
   "metadata": {},
   "source": [
    "Let's take a second to cover the syntax line-by-line in the above code cell. \n",
    "\n",
    "1. We used a `with` statement to `open` our file for reading only (`'r'`) and assigned it to the variable `seq`.\n",
    "\n",
    "2. Within the `with` block, we used Biopython's [SeqIO.parse](http://biopython.org/wiki/SeqIO) function to read the file. We specified the format as `'fasta'`. This function generates something called a `SeqRecord` iterator which contains the sequence and description for each entry in the file.\n",
    "\n",
    "3. We separated each record in the `SeqRecord` iterator into a list by using a single line `for` loop. By putting this loop in brackets `[]`, we convert the output to a list.\n",
    "\n",
    "Now, each entry in the `noronha_sequences` list has two **attributes**; the sequence (`.seq`) and the description (`.description`). Let's take a look at the sequence and description of the Noronha skink."
   ]
  },
  {
   "cell_type": "code",
   "execution_count": 6,
   "metadata": {},
   "outputs": [
    {
     "name": "stdout",
     "output_type": "stream",
     "text": [
      "ttgtcttctaaataaagaccagtatgaacggctaaatgaggacaaacctgtctcttttaactaatcagtgaaactgatctcccagtacaaaagctgggatacaaacataagacgagaagaccccgtggagcttaaaacaaaaccaccaatcca--c------gccctgg-accctggtggactgttttgagttggggcgacttcggaataaaaagaaacttccgagcacagaaccac-aaattctaaccaaggccaacaagcctaagcata---taa-ctgacccggccc--acgccgatcaacgaaccaagttaccccggggataacagcgctatcttcttcaagagtccctatcaacaagaaggtttacgacctcgatgttggatcaggacacccaaatggtgcagccgctattaaaggttcgtttgttcaacgatt\n",
      "Mabuya atlantica isolate 1, Fernando de Noronha\n"
     ]
    }
   ],
   "source": [
    "# Look at the sequence and description of the first isolate.\n",
    "noronha_seq = noronha_sequences[0].seq\n",
    "noronha_desc = noronha_sequences[0].description\n",
    "print(noronha_seq)\n",
    "print(noronha_desc)"
   ]
  },
  {
   "cell_type": "markdown",
   "metadata": {},
   "source": [
    "Let's do this again with the skink sequences from other regions of the world.  "
   ]
  },
  {
   "cell_type": "code",
   "execution_count": 7,
   "metadata": {},
   "outputs": [],
   "source": [
    "# Open the file with sequences from the rest of the world.\n",
    "with open('../data/mabuya_atlantica/world_mabuya.txt', 'r') as seq:\n",
    "    world_file = Bio.SeqIO.parse(seq, 'fasta')\n",
    "    world_sequences = [record for record in world_file]"
   ]
  },
  {
   "cell_type": "markdown",
   "metadata": {},
   "source": [
    " Again, let's take a look at the sequence and description."
   ]
  },
  {
   "cell_type": "code",
   "execution_count": 8,
   "metadata": {},
   "outputs": [
    {
     "name": "stdout",
     "output_type": "stream",
     "text": [
      "TTGTCTTTTAAATAAAGACCTGTATGAATGGCTGAATGAGGATAAACCTGTCTCTTATAACTAATCAGTGAAACTGATCTCCCAGTACAAAAGCTGGAATATACACATAAGACGAGAAGACCCTGTGGAGCTTAAAAC-AAACCACTAAACAA-----GT--ATACCACTACCTTAGTGTAC-GTTTTCAGTTGGGGCGACTTCGGAATAAAATGAAACTTCCGAGCACAGAGGCAC-TTCCTCTAACTAAGGCCAACAAGCCAAAGACCC---ATAAACGACCCGGCC---TTGCCGATCAACGAACCAAGTTACCCCAGGGATAACAGCGCAATCTTCTTCGAGAGCCCTTATCAACAAGAAGGTTTACGACCTCGATGTTGGATCAGGACACCCAAATGGTGCAGCCGCTATTAAAGGTTCGTTTGTTCAACGATT\n",
      "Mabuya agilis, SW Brazil; Mato Grosso do Sul\n"
     ]
    }
   ],
   "source": [
    "# Look at the sequence and description of a skink in Brazil\n",
    "brazil_seq = world_sequences[0].seq\n",
    "brazil_desc = world_sequences[0].description\n",
    "print(brazil_seq)\n",
    "print(brazil_desc)"
   ]
  },
  {
   "cell_type": "markdown",
   "metadata": {},
   "source": [
    "We see again that we have the DNA sequence (although this one is upper case) and its description (`Mabuya agilis, SW Brazil; Mato Grosso do Sul`). Now that we know how to load and store the sequence information from a file, let's take a look at how to actually perform sequence comparison. "
   ]
  },
  {
   "cell_type": "markdown",
   "metadata": {},
   "source": [
    "## Computing a similarity score "
   ]
  },
  {
   "cell_type": "markdown",
   "metadata": {},
   "source": [
    "We'll compare the sequences from our skink on Fernando de Noronha to those in other regions of the world. To do so, we'll simplify our analysis to only compare the number of mismatches at a given position in the sequence. This means that we will have to ignore any gaps in the sequence (denoted by '`-`' signifying an insertion or deletion in the reference genome). How do we define what is 'similar'? There are [myriad ways of scoring sequence similarity](https://www.ncbi.nlm.nih.gov/pmc/articles/PMC3820096/) and is a subject that people have thought very deeply about. To whet our appetite for sequence analysis, we will simply compute what percentage of the base pairs we compared are identical to each other. By this definition, organisms with a larger percent similarity are more similar to each other than those with a lower percent similarity. \n",
    "\n",
    "Programmatically, how do we compute this? Remember from the [Python syntax tutorial](t0c_python_syntax_and_plotting.html) we can index letters in a string much like we can numbers in an array or items of a list. To perform the comparison, we'll simply iterate over each position in a sequence and ask two questions:\n",
    "\n",
    "1. Is this position in either sequence a gap '`-`'? If so, we'll skip it and move to the next position.\n",
    "\n",
    "2. Is this position in sequence 1 the same in sequence 2? If so, we'll count that as a similarity and move on. Note that by this definition, the two bases must be the **same letter** and in the **same case**. This means we will have to convert our `brazil_seq` to lowercase before we perform the comparison.\n",
    "\n",
    "Before we begin the loop, we will need to make sure that the two sequences are the same length."
   ]
  },
  {
   "cell_type": "code",
   "execution_count": 9,
   "metadata": {},
   "outputs": [
    {
     "name": "stdout",
     "output_type": "stream",
     "text": [
      "Our sequences are the same length: True\n"
     ]
    }
   ],
   "source": [
    "# Determine the length of the two sequences and make sure they are the same.\n",
    "noronha_length = len(noronha_seq)\n",
    "brazil_length = len(brazil_seq)\n",
    "compared_length = (noronha_length == brazil_length)  # Should be True\n",
    "print('Our sequences are the same length: ' + str(compared_length))"
   ]
  },
  {
   "cell_type": "markdown",
   "metadata": {},
   "source": [
    "Great! Now, we can go ahead and set up a `for` loop to compare our two example sequences. "
   ]
  },
  {
   "cell_type": "code",
   "execution_count": 10,
   "metadata": {},
   "outputs": [
    {
     "name": "stdout",
     "output_type": "stream",
     "text": [
      "0.8878281622911695\n"
     ]
    }
   ],
   "source": [
    "# Convert the Brazil sequence to lowercase.\n",
    "brazil_seq = brazil_seq.lower()\n",
    "\n",
    "# Set up a counter to keep track of how many bases are identical.\n",
    "num_sim = 0\n",
    "\n",
    "# Set up a counter to keep track of how many positions we've compared.\n",
    "comp_length = 0\n",
    "\n",
    "# Iterate through each position in the sequences and compare.\n",
    "for base in range(brazil_length):\n",
    "    \n",
    "    # Make sure we are not comparing a gap.\n",
    "    if (noronha_seq[base] != '-') and (brazil_seq[base] != '-'):\n",
    "        \n",
    "        # Add one position to our counter of the comparison length.\n",
    "        comp_length += 1   # Note this is same as comp_length = comp_length + 1\n",
    "       \n",
    "        # Compare the position and each sequence.\n",
    "        if noronha_seq[base] == brazil_seq[base]:\n",
    "            \n",
    "            # If they are the same, add that to our counter.\n",
    "            num_sim += 1\n",
    "            \n",
    "# Now compute the percent similarity and print it.\n",
    "score = num_sim / comp_length\n",
    "print(score)"
   ]
  },
  {
   "cell_type": "markdown",
   "metadata": {},
   "source": [
    "Our analysis tells us that our sequences are approximately 89% similar. This makes some intuitive sense considering that Fernando de Noronha is only about 200 miles away from the coast of mainland Brazil. However, we have a few other sequences to analyze before we can come to a conclusion regarding their dispersal. Let's take a look at the two other localities (South Africa and Turkey) in our `world_mabuya.txt` file. We could type everything again by hand, but this would be a wonderful opportunity to write a **function**. \n",
    "\n",
    "Our function will do the following operations with two provided sequences, `seq_1` and `seq_2`.\n",
    "\n",
    "1. Ensure that `seq_1` and `seq_2` are the same length. If not, it will produce an error. For this, we'll include a `raise` statement with the `ValueError` exception.\n",
    "\n",
    "2. Convert both sequences to lowercase and iterate through each sequence and compare every position that is not a gap in either sequence. \n",
    "\n",
    "3. Complete and return the percent similarity between the two sequences.\n",
    "\n",
    "\n",
    "Let's give it a shot. "
   ]
  },
  {
   "cell_type": "code",
   "execution_count": 11,
   "metadata": {},
   "outputs": [],
   "source": [
    "def compute_similarity(seq_1, seq_2):\n",
    "    \"\"\"\n",
    "    Computes the percent similarity between two sequences ignoring gaps. \n",
    "    \n",
    "    Parameters\n",
    "    ----------\n",
    "    seq_1, seq_2 : strings\n",
    "        DNA sequences to compare. These must be the same length.\n",
    "        \n",
    "    Returns\n",
    "    -------\n",
    "    score : float\n",
    "        The percent similarity between the two sequences. \n",
    "    \"\"\"\n",
    "    # Make sure they are the same length. \n",
    "    if len(seq_1) != len(seq_2):\n",
    "        raise ValueError('Sequences must be the same length!')\n",
    "        \n",
    "    # Make both sequences lowercase.\n",
    "    seq_1 = seq_1.lower()\n",
    "    seq_2 = seq_2.lower()\n",
    "        \n",
    "    # Set up counters of length and similarity.\n",
    "    comp_length = 0\n",
    "    num_sim = 0\n",
    "    \n",
    "    # Iterate through each position in the sequences.\n",
    "    for base in range(len(seq_1)):\n",
    "        \n",
    "        # Ensure we are not comparing gaps.\n",
    "        if (seq_1[base] != '-') and (seq_2[base] != '-'):\n",
    "            \n",
    "            # Increase the counter for compared length.\n",
    "            comp_length += 1\n",
    "            \n",
    "            # Compare the two positions.\n",
    "            if seq_1[base] == seq_2[base]:\n",
    "                \n",
    "                # Increase the similarity counter.\n",
    "                num_sim += 1\n",
    "                \n",
    "    # Compute and return the percent similarity.\n",
    "    score = num_sim  / comp_length\n",
    "    return score\n",
    "    "
   ]
  },
  {
   "cell_type": "markdown",
   "metadata": {},
   "source": [
    "To check our function, let's feed it the two sequences we've worked with for this entire tutorial. It should return a similarity of 0.8878. "
   ]
  },
  {
   "cell_type": "code",
   "execution_count": 12,
   "metadata": {},
   "outputs": [
    {
     "name": "stdout",
     "output_type": "stream",
     "text": [
      "0.8878281622911695\n"
     ]
    }
   ],
   "source": [
    "# Test the function on our example sequences\n",
    "function_score = compute_similarity(noronha_seq, brazil_seq)\n",
    "print(function_score)"
   ]
  },
  {
   "cell_type": "markdown",
   "metadata": {},
   "source": [
    "Now, let's check that it fails when we give the function different sequences. "
   ]
  },
  {
   "cell_type": "code",
   "execution_count": 13,
   "metadata": {},
   "outputs": [
    {
     "ename": "ValueError",
     "evalue": "Sequences must be the same length!",
     "output_type": "error",
     "traceback": [
      "\u001b[0;31m---------------------------------------------------------------------------\u001b[0m",
      "\u001b[0;31mValueError\u001b[0m                                Traceback (most recent call last)",
      "\u001b[0;32m<ipython-input-13-b4b8283a569c>\u001b[0m in \u001b[0;36m<module>\u001b[0;34m\u001b[0m\n\u001b[1;32m      4\u001b[0m \u001b[0;34m\u001b[0m\u001b[0m\n\u001b[1;32m      5\u001b[0m \u001b[0;31m# Run these through the function. This should give an error.\u001b[0m\u001b[0;34m\u001b[0m\u001b[0;34m\u001b[0m\u001b[0;34m\u001b[0m\u001b[0m\n\u001b[0;32m----> 6\u001b[0;31m \u001b[0mfailed_score\u001b[0m \u001b[0;34m=\u001b[0m \u001b[0mcompute_similarity\u001b[0m\u001b[0;34m(\u001b[0m\u001b[0mseq_1\u001b[0m\u001b[0;34m,\u001b[0m \u001b[0mseq_2\u001b[0m\u001b[0;34m)\u001b[0m\u001b[0;34m\u001b[0m\u001b[0;34m\u001b[0m\u001b[0m\n\u001b[0m",
      "\u001b[0;32m<ipython-input-11-337046a70563>\u001b[0m in \u001b[0;36mcompute_similarity\u001b[0;34m(seq_1, seq_2)\u001b[0m\n\u001b[1;32m     15\u001b[0m     \u001b[0;31m# Make sure they are the same length.\u001b[0m\u001b[0;34m\u001b[0m\u001b[0;34m\u001b[0m\u001b[0;34m\u001b[0m\u001b[0m\n\u001b[1;32m     16\u001b[0m     \u001b[0;32mif\u001b[0m \u001b[0mlen\u001b[0m\u001b[0;34m(\u001b[0m\u001b[0mseq_1\u001b[0m\u001b[0;34m)\u001b[0m \u001b[0;34m!=\u001b[0m \u001b[0mlen\u001b[0m\u001b[0;34m(\u001b[0m\u001b[0mseq_2\u001b[0m\u001b[0;34m)\u001b[0m\u001b[0;34m:\u001b[0m\u001b[0;34m\u001b[0m\u001b[0;34m\u001b[0m\u001b[0m\n\u001b[0;32m---> 17\u001b[0;31m         \u001b[0;32mraise\u001b[0m \u001b[0mValueError\u001b[0m\u001b[0;34m(\u001b[0m\u001b[0;34m'Sequences must be the same length!'\u001b[0m\u001b[0;34m)\u001b[0m\u001b[0;34m\u001b[0m\u001b[0;34m\u001b[0m\u001b[0m\n\u001b[0m\u001b[1;32m     18\u001b[0m \u001b[0;34m\u001b[0m\u001b[0m\n\u001b[1;32m     19\u001b[0m     \u001b[0;31m# Make both sequences lowercase.\u001b[0m\u001b[0;34m\u001b[0m\u001b[0;34m\u001b[0m\u001b[0;34m\u001b[0m\u001b[0m\n",
      "\u001b[0;31mValueError\u001b[0m: Sequences must be the same length!"
     ]
    }
   ],
   "source": [
    "# Generate sequences of dissimilar length.\n",
    "seq_1 = 'aTtAcg-a'\n",
    "seq_2 = 'ttac'\n",
    "\n",
    "# Run these through the function. This should give an error.\n",
    "failed_score = compute_similarity(seq_1, seq_2)"
   ]
  },
  {
   "cell_type": "markdown",
   "metadata": {},
   "source": [
    "Great! Now that we are confident that our function works as advertised, let's compare the three other localities to Fernando de Noronha. Rather than doing this over three separate times, we can throw it in a `for` loop."
   ]
  },
  {
   "cell_type": "code",
   "execution_count": 14,
   "metadata": {},
   "outputs": [
    {
     "name": "stdout",
     "output_type": "stream",
     "text": [
      "Mabuya agilis, SW Brazil; Mato Grosso do Sul : Score = 0.8878281622911695\n",
      "Mabuya capensis, South Africa; Kuga Mts. E. Cape : Score = 0.9304556354916067\n",
      "Mabuya vittata, Turkey; Osmandere : Score = 0.9049881235154394\n"
     ]
    }
   ],
   "source": [
    "# Loop through the three other localities and print the result to the screen.\n",
    "for locale in world_sequences:\n",
    "    \n",
    "    # Compute the similarity.\n",
    "    score = compute_similarity(noronha_seq, locale.seq)\n",
    "    \n",
    "    # Print the locality and the score.\n",
    "    print(locale.description, ': Score = ' + str(score))"
   ]
  },
  {
   "cell_type": "markdown",
   "metadata": {},
   "source": [
    "It looks like the skink from Brazil is actually the *least* similar of the three locales we examined. These data are suggestive that the skinks of Fernando de Noronha arrived from somewhere on mainland Africa! "
   ]
  },
  {
   "cell_type": "markdown",
   "metadata": {},
   "source": [
    "---\n",
    "# Building a phylogenetic tree."
   ]
  },
  {
   "cell_type": "markdown",
   "metadata": {},
   "source": [
    "Given what we have learned so far about the use of molecular phylogenies to gain insight into the relationship between organisms we will now use this part of the tutorial to build a phylogenetic tree given these sequences.\n",
    "\n",
    "There are several packages to work with phylogenies on Python, the most populars being [`Bio.Phylo`](https://bmcbioinformatics.biomedcentral.com/articles/10.1186/1471-2105-13-209), [`DendroPy`](https://www.dendropy.org) and [`ETE`](http://etetoolkit.org). Each of them with their own advantages and disadvantages. But rather than teaching you how to use these powerful **black boxes** in this tutorial we will focus in coding our own phylogenetic tree program. Specifically we will implement the [*Neighbor Joining*](https://en.wikipedia.org/wiki/Neighbor_joining#NJ_with_5_taxa) algorithm.\n",
    "\n",
    "The first thing we need to do is to import a sequence alignment with all 4 species of skinks. The difference between this alignment and the previous ones is that this file contains all 4 species, and the names of the species are only indicated as the country from which the sample was obtained. This will allow us to display the tree more easily.\n",
    "\n",
    "Let's then use the `Bio.AlignIO` module to read the alignment in which is saved in `fasta` format."
   ]
  },
  {
   "cell_type": "code",
   "execution_count": 29,
   "metadata": {},
   "outputs": [
    {
     "name": "stdout",
     "output_type": "stream",
     "text": [
      "SingleLetterAlphabet() alignment with 4 rows and 439 columns\n",
      "ttgtcttctaaataaagaccagtatgaacggctaaatgaggaca...att Fernando_de_Noronha\n",
      "TTGTCTTTTAAATAAAGACCTGTATGAATGGCTGAATGAGGATA...ATT SW_Brazil\n",
      "TTGTCTTCTAAATAAAGACCAGTATGAACGGCTAAATGAGGACA...ATT South_Africa\n",
      "TTGTCTTCTAAATAAAGACCTGTATGAACGGCTAAATGAGGATA...ATT Turkey\n"
     ]
    }
   ],
   "source": [
    "# Read alignment with all species\n",
    "aln = Bio.AlignIO.read('../data/mabuya_atlantica/mabuya_aln.fasta', 'fasta')\n",
    "# PRint alignment\n",
    "print(aln)"
   ]
  },
  {
   "cell_type": "markdown",
   "metadata": {},
   "source": [
    "## The Neighbor-Joining algorithm.\n",
    "\n",
    "As described in the original [1987 paper](https://watermark.silverchair.com/7sait.pdf?token=AQECAHi208BE49Ooan9kkhW_Ercy7Dm3ZL_9Cf3qfKAc485ysgAAAbAwggGsBgkqhkiG9w0BBwagggGdMIIBmQIBADCCAZIGCSqGSIb3DQEHATAeBglghkgBZQMEAS4wEQQM5WHbpNhoFc3bvruMAgEQgIIBY3_ICLdGO26dKo_XZme-TKSrZWW78e1nyGQQdq_NkM8idfte2ObheJCQhIDXRAS6slPlk_PHn5P8f_tknOVbQPcPQqXjNqIqaLOCE3en7iCmCglLvT2OFcXvwkTDR0NsRHVDTcZAEtACIiklk_q7T-GUXiX6xj4lEiMdSL-CZD7H9Cns9mW_WqiJvexKL68l-0aN8aRySSR3Qm1WphVrUUDkfAC1fdNn8rRpI6B6XQep0qrDnRYcNIZILrpH31xEsbKJe9IvOIzaZAvw3gsO45JJ-uptXtPOvnWTLky2jBrI6M_gMsNpeZwhtFwdHTM_f-bpm2uuIAsu5uzLLSwQj4GaZXTAIGVVYXbAlwaXFmuaGzjIfkfsl9deGgsNgEOnCyHbQTWg0i-9tsKfyY6LaGmK9965-CtONZHbiKxNTt9ppVbtyCmGdm6xMRdHr-8Fm3vLnRSYmeR1Gqj50yGs4nkdMGc)\n",
    "> The principle of this method is to find pairs of operational taxonomic units (OTUs [=neighbors]) that minimize the total branch length at each stage of clustering of OTUs starting with a starlike tree.\n",
    "\n",
    "The following schematic describes the tree construction process.\n",
    "\n",
    "<center>\n",
    "<img src=\"nj_algorithm.png\" width=\"20%\">\n",
    "</center>\n",
    "\n",
    "\n",
    "The algorithm starts assuming no hierarchy in the structure of the tree (the starlike tree). Using as an input the pairwise distance between the nodes, the algorithm iteratively finds the two closest nodes and joins them to generate a new parental node (like node $u$ in the second schematic). It repeats this process, updating the distance metric as the number of unmatched nodes decreases. Once two nodes are joined with one another they cease to exist for the algorithm. It is only via the newly created parental node that these nodes can be connected to the rest of the tree."
   ]
  },
  {
   "cell_type": "markdown",
   "metadata": {},
   "source": [
    "### So how does the algorithm work?\n",
    "\n",
    "The algorithm starts with a starlike topology like the one shown in panel (a) of the next figure taken from the original paper. All $N=8$ nodes are connected to a single interior node $X$. In practice some pairs of taxa, or more properly OTUs are more related to each other than other pairs. Assume for example that as in panel (b) nodes $1-2$ are more closely related. The algorithm then creates a new internal node $Y$ that connects the joined pair $1-2$ to the rest of the nodes.\n",
    "\n",
    "<center>\n",
    "   <img src=\"nj_construction.png\" width=\"30%\">\n",
    "</center>"
   ]
  },
  {
   "cell_type": "markdown",
   "metadata": {},
   "source": [
    "Let also $D_{ij}$ be the distance metric between OTUs $i$ and $j$ (for example our sequnce similarity metric could serve as a distance metric). The relationship between the branch length $L_{ab}$ and the distance $D_{ij}$ is as follows: Imagine that we know the distance $D_{13}$; for schematic (a) that is related to the branch length as\n",
    "$$\n",
    "D_{13} = L_{1X} + L_{3X},\n",
    "\\tag{1}\n",
    "$$\n",
    "i.e. the total length of the branches that connect nodes $1$ and $3$. For schematic (b) that would therefore be given by\n",
    "$$\n",
    "D_{13} = L_{1X} + L_{XY} + L_{Y3}.\n",
    "\\tag{2}\n",
    "$$"
   ]
  },
  {
   "cell_type": "markdown",
   "metadata": {},
   "source": [
    "To compute the sum of the branch lengths for schematic (a) is then given by\n",
    "$$\n",
    "S_o = \\sum_{i=1}^N L_{iX} = {1 \\over N - 1} \\sum_{i < j} D_{ij}.\n",
    "\\tag{3}\n",
    "$$\n",
    "This is because if we only have information about the distances and not the branch lengths when we add up all distances we find that we counted each brand $N - 1$ times. This is probably easier to see if we start writing the sum of all distances in terms of the length relationships as in Eq. (1):\n",
    "\\begin{align}\n",
    "\\sum_{i < j} D_{ij} &= D_{12} + D_{13} + \\ldots + D_{23} + \\ldots + D_{N-1\\;N}\\\\\n",
    "&= \\overbrace{(L_{1X} + L_{2X})}^{D_{12}} + \n",
    "\\overbrace{(L_{1X} + L_{3X})}^{D_{13}} + \\ldots +\n",
    "\\overbrace{(L_{2X} + L_{3X})}^{D_{23}} + \\ldots +\n",
    "\\overbrace{(L_{N-1\\;X} + L_{NX})}^{D_{N-1\\;N}}.\n",
    "\\tag{4}\n",
    "\\end{align}\n",
    "From here you can see that each length term appears multiple times, $N-1$ to be precise. That is why we divide by $N-1$ to obtain the total branch length."
   ]
  },
  {
   "cell_type": "markdown",
   "metadata": {},
   "source": [
    "Now, how do we compute the branch length $L_{XY}$ of the topology in schematic (b) if we only know distance information of the leafs of the tree? In principle we could add all the paths between node $1$ and the rest of the $\\{3, 4, \\ldots, N\\}$ nodes, as well as the paths between $2$ and the rest of the nodes, and then subtract the branch lengths that we don't care about, like the ones connecting $1X$, $2X$ and all the $\\{3, 4, \\ldots, N\\}$ nodes connected to $Y$.\n",
    "\n",
    "Adding all the paths between node $1$ and the rest of the nodes counts $N - 2$ times the unwanted $L_{1X}$ branch. The same happens with branch $L_{2X}$. We don't know the length of each of these individual branches, but we know from Eq. (1) that adding them gives\n",
    "$$\n",
    "L_{1X} + L_{2X} = D_{12}.\n",
    "\\tag{5}\n",
    "$$\n",
    "So subtracting $(N - 2) D_{12}$ eliminates the undesired branches $L_{1X}$ and $L_{2X}$ from our estimate of the branch $L_{XY}$. The same is true for the other nodes, when counting all trajectories between $1$ and $2$ to the rest of the nodes, each of the branches $L_{iY}$ with $i \\in \\{3,\\ldots,N\\}$ is counted $2$ times. \n",
    "That means that to subtract all these undesired branch counts we can use the distances $D_{ij}$ with $i < j \\in \\{3, \\ldots, N \\}$. From Eq. (3) we can compute those distances as\n",
    "$$\n",
    "\\sum_{i=3}^N L_{iY} = {1 \\over (N - 2) - 1} \\sum_{3 \\leq i < j} D_{ij},\n",
    "\\tag{6}\n",
    "$$\n",
    "and extract this quantity twice to remove the undesired branches touching node $Y$.\n",
    "\n",
    "Finally the branch $L_{XY}$ is counted ${N - 2}$ times for the paths involving node $1$ and the same number for paths involving node $2$, for a total of $2 (N - 2)$ times. So we have to account for that. This results in a branch distance $L_{XY}$ of the form\n",
    "$$\n",
    "L_{XY} = \\overbrace{{1 \\over 2(N - 2)}}^{\\text{overcount of $L_{XY}$}}\n",
    "\\times [\n",
    "\\overbrace{\\sum_{k=3}^N (D_{1k} + D_{2K})}^{\\text{paths between nodes 1 and 2 to the rest}}\n",
    "- \\overbrace{(N - 2)(L_{1X} + L_{2X})}^{\\text{remove paths between 1 and 2 to $X$}}\n",
    "- \\overbrace{2 \\sum_{i=3}^N L_{iY}}^{\\text{remove paths between the rest of the nodes to $Y$}},\n",
    "]\n",
    "\\tag{7}\n",
    "$$\n",
    "or using the definition of the branch lengths as given by Eq 5 and 6\n",
    "$$\n",
    "L_{XY} = {1 \\over 2(N - 2)} \\left[  \n",
    "\\sum_{k=3}^N (D_{1k} + D_{2K})\n",
    "- (N - 2) D_{12}\n",
    "- {2 \\over N - 3} \\sum_{3 \\leq i < j} D_{ij}\n",
    "\\right].\n",
    "\\tag{8}\n",
    "$$\n"
   ]
  },
  {
   "cell_type": "markdown",
   "metadata": {},
   "source": [
    "Given this, we can compute the total branch length of the topology in schematic (b) by adding all branch lengths as\n",
    "$$\n",
    "S_{12} = (L_{1X} + L_{2X}) + L_{XY} + \\sum_{i=3}^N L_{iY}.\n",
    "\\tag{9}\n",
    "$$\n",
    "If we substitute the definitions we have obtained so far for these branch lengths  we have\n",
    "$$\n",
    "S_{12} = {1 \\over 2 (N - 2)} \\sum_{k=3}^N (D_{1k} + D_{2k})\n",
    "+ {1 \\over 2} D_{12} + {1 \\over N - 2} \\sum_{3 \\leq i < j} D_{ij}.\n",
    "\\tag{10}\n",
    "$$\n",
    "It can be shown that Eq. 10 is the sum of the least-squares estimates of branch lengths."
   ]
  },
  {
   "cell_type": "markdown",
   "metadata": {},
   "source": [
    "This total branch length $S_{12}$ depended on us assuming that nodes $1$ and $2$ were the closest OTUs. But we don't know a priori if this is true, so the algorithm must compute all possible $S_{ij}$ with $i < j \\in \\{1,\\ldots,N\\}$ and choose the pair $ij$ that minimizes the total length.\n",
    "\n",
    "For the sake of the example let's assume that indeed the pair $1-2$ is the one that minimizes the total distance of a topology like the one in schematic (b). Once the algorithm joins these two nodes and creates the $Y$ node, nodes $1$ and $2$ cease to exist and they are replaced by node $X$. Then the distance metric between these joined OTUs represented by node $X$ to the rest of the nodes is given by\n",
    "$$\n",
    "D_{Xj} = {D_{1j} + D_{2j} \\over 2} \\;\\; \\text{for } 3 \\leq j \\leq N,\n",
    "\\tag{11}\n",
    "$$\n",
    "i.e. the average distance between both nodes in the newly formed OTU."
   ]
  },
  {
   "cell_type": "markdown",
   "metadata": {},
   "source": [
    "Just as we inferred the length of the $L_{XY}$ branch for Eq. 7 and 8 based only on knowing the distances between nodes, once we defined the new OTU that joins $1$ and $2$ the length of the branches that connect these nodes to $X$ can be estimated from knowing the distances. By using the fact that the distance $D_{12}$ contains these two branches $L_{1X}$ and $L_{2X}$ and that also the distance between these nodes and the rest $D_{1j}$ and $D_{2j}$ with $j \\in \\{ 3,\\ldots,N\\}$ also contains these distances we obtain the following equations for the branches lengths\n",
    "$$\n",
    "L_{1X} = {1 \\over 2} \\left[ D_{12} + \n",
    "{1 \\over N - 2} \\sum_{i=3}^N D_{1i} -\n",
    "{1 \\over N - 2} \\sum_{j=3}^N D_{2j}\n",
    "\\right],\n",
    "\\tag{12}\n",
    "$$\n",
    "and\n",
    "$$\n",
    "L_{2X} = {1 \\over 2} \\left[ D_{12} + \n",
    "{1 \\over N - 2} \\sum_{i=3}^N D_{2i} -\n",
    "{1 \\over N - 2} \\sum_{j=3}^N D_{1j}\n",
    "\\right].\n",
    "\\tag{13}\n",
    "$$"
   ]
  },
  {
   "cell_type": "markdown",
   "metadata": {},
   "source": [
    "# Implementing the algorithm\n",
    "\n",
    "It looks like a lot of nasty sums, but in reality the algorithm is not that difficult to implement. The first thing that we need to do is to build the distance matrix that the algorithm will use. For this I propose we use our already written function that computes a similarity score between two sequences and generate a square symmetric matrix containing the pairwise comparison of all available species.\n",
    "\n",
    "Since we need a *distance* metric, i.e. something that measures how far away are two sequences we will use 1 - our similarity score. This makes sense since the distance that we will obtain at the diagonal, i.e. one species vs. itself will be zero for this proposed metric.\n",
    "\n",
    "Given what we know so far this should be pretty simple to implement!"
   ]
  },
  {
   "cell_type": "code",
   "execution_count": 30,
   "metadata": {},
   "outputs": [
    {
     "name": "stdout",
     "output_type": "stream",
     "text": [
      "Similarity matrix for all 4 sequences:\n",
      "[[0.         0.11217184 0.06954436 0.09501188]\n",
      " [0.11217184 0.         0.1253012  0.10287081]\n",
      " [0.06954436 0.1253012  0.         0.10336538]\n",
      " [0.09501188 0.10287081 0.10336538 0.        ]]\n"
     ]
    }
   ],
   "source": [
    "# Initialize matrix to save similarity scores\n",
    "sim_mat = np.zeros([len(aln), len(aln)])\n",
    "\n",
    "# loop through species in aln\n",
    "for i, sp1 in enumerate(aln):\n",
    "    # Extract species 1 sequences\n",
    "    seq_1 = sp1.seq\n",
    "    # loop through species in aln\n",
    "    for j, sp2 in enumerate(aln):\n",
    "        # Extract species 2 sequences\n",
    "        seq_2 = sp2.seq\n",
    "        # Compute and save similarity score\n",
    "        sim_mat[i, j] = 1 - compute_similarity(seq_1, seq_2)\n",
    "        \n",
    "print('Similarity matrix for all {:d} sequences:'.format(len(aln)))\n",
    "print(sim_mat)"
   ]
  },
  {
   "cell_type": "markdown",
   "metadata": {},
   "source": [
    "### 1. Computing the total length matrix $\\bb{S}$\n",
    "\n",
    "The next step in the algorithm  will be to compute the total distance $S_{ij}$ as implemented by Eq. 10. Let's define a function that returns a matrix $\\bb{S}$ given a distance matrix $\\bb{D}$ where each entry of $\\bb{S}$ is given by  Eq. 10.b, i.e. $\\bb{S}_{ij} = S_{ij}$."
   ]
  },
  {
   "cell_type": "code",
   "execution_count": 31,
   "metadata": {},
   "outputs": [],
   "source": [
    "def s_matrix(mat):\n",
    "    '''\n",
    "    Computes the S-Matrix for the Neighbor Joining algorithm. Each entry\n",
    "    S_ij computes the total branch length assuming that nodes i and j form\n",
    "    a new OTU.\n",
    "    Parameters\n",
    "    ----------\n",
    "    mat : array-like. N x N matrix\n",
    "        Square matrix containing similarity scores between OTUs\n",
    "    Returns\n",
    "    -------\n",
    "    s_mat : array-like. N x N matrix\n",
    "        Square matrix containing the total branch length when joining\n",
    "        each possible pair of OTUs\n",
    "    '''\n",
    "    # Get the number of entries in matrix\n",
    "    n = len(mat)\n",
    "    \n",
    "    # Compute the starlike length\n",
    "    s_star = 1 / (n - 1) * np.sum(np.triu(mat))\n",
    "    # Initialize matrix to save entries\n",
    "    s_mat = np.ones_like(mat) * s_star\n",
    "\n",
    "    # Loop through rows\n",
    "    for i in range(n):\n",
    "        # Loop through columns\n",
    "        for j in range(n):\n",
    "            # Define list of index different from i and j\n",
    "            idx_out = np.arange(n)\n",
    "            idx_out = np.delete(idx_out, [i, j])\n",
    "            \n",
    "            # To make the calculation simpler we will divide Eq. 3 into\n",
    "            # the three terms\n",
    "            # First term\n",
    "            first_term = 1 / (2 * (n - 2)) * np.sum(mat[i, idx_out] + \\\n",
    "                                                    mat[j, idx_out])\n",
    "            \n",
    "            # Second term\n",
    "            second_term = 1 / 2 * mat[i, j]\n",
    "            \n",
    "            # Third term\n",
    "            # We have to be slightly clever for this one. To add all of the\n",
    "            # terms that do not include either i or j we will eliminate\n",
    "            # those columns from the matrix mat and we will use the function\n",
    "            # np.triu to generate an upper triangular matrix with the lower\n",
    "            # half of the matrix all zeros. That way when we add the entire\n",
    "            # matrix we only sum the terms that didn't contain i or j\n",
    "            reduced_mat = np.delete(mat, [i, j], axis=0)\n",
    "            reduced_mat = np.delete(reduced_mat, [i, j], axis=1)\n",
    "            third_term = 1 / (n - 2) * np.sum(np.triu(reduced_mat))\n",
    "            \n",
    "            # Add result to the s matrix\n",
    "            s_mat[i, j] = first_term + second_term + third_term\n",
    "            \n",
    "    # Set all terms in diagonal to zero since we don't want the diagonal\n",
    "    # to play any role in further steps\n",
    "    np.fill_diagonal(s_mat, 0)\n",
    "    \n",
    "    return s_mat"
   ]
  },
  {
   "cell_type": "markdown",
   "metadata": {},
   "source": [
    "Having implemented this function we can apply it to our distance matrix"
   ]
  },
  {
   "cell_type": "code",
   "execution_count": 32,
   "metadata": {},
   "outputs": [
    {
     "name": "stdout",
     "output_type": "stream",
     "text": [
      "Total branch length difference with respect to starlike topology\n",
      "[[0.         0.20595068 0.19517016 0.20714464]\n",
      " [0.20595068 0.         0.20714464 0.19517016]\n",
      " [0.19517016 0.20714464 0.         0.20595068]\n",
      " [0.20714464 0.19517016 0.20595068 0.        ]]\n"
     ]
    }
   ],
   "source": [
    "s_mat = s_matrix(sim_mat)\n",
    "print('Total branch length difference with respect to starlike topology')\n",
    "print(s_mat)"
   ]
  },
  {
   "cell_type": "markdown",
   "metadata": {},
   "source": [
    "### 3. Finding the entry with the smallest distance\n",
    "\n",
    "Now that we computed the matrix let's find out which of the OTU pairs minimizes the total branch length. We will do that with the help of the function `np.where`. Note that the diagonal is never an option to choose, so our selection should be based on non-diagonal or non-zero terms."
   ]
  },
  {
   "cell_type": "code",
   "execution_count": 33,
   "metadata": {},
   "outputs": [
    {
     "name": "stdout",
     "output_type": "stream",
     "text": [
      "OTU pair : 0,2\n"
     ]
    }
   ],
   "source": [
    "# Find the minimum non-zero entry\n",
    "min_val = np.min(s_mat[np.nonzero(s_mat)])\n",
    "# Find where the minimum distance is\n",
    "row, col = np.where(s_mat == min_val)\n",
    "\n",
    "# Choose the smaller index as the row and the large index as the column\n",
    "idx = [row[0], col[0]]\n",
    "i, j = min(idx), max(idx)\n",
    "\n",
    "# Extract species index (numeric position)\n",
    "i, j = row[0], col[0]\n",
    "print('OTU pair : {0:d},{1:d}'.format(i, j))"
   ]
  },
  {
   "cell_type": "markdown",
   "metadata": {},
   "source": [
    "That means that for our example species index 0 and index 2 are the closest neighbors. So we will join them into a single OTU."
   ]
  },
  {
   "cell_type": "markdown",
   "metadata": {},
   "source": [
    "### 4. Add new node to the matrix and update distance metric.\n",
    "\n",
    "Now that we will generate a new node (0-2) that joins the closest OTUs we need to update our distance metric. We now need to compute the distance between this new node and the rest of the nodes, i.e. $D_{(0-2)j}$ for $j \\neq {0, 2}$.\n",
    "\n",
    "The way we will implement this will be as follows:\n",
    "1. Add a new row to our matrix `sim_mat` and a new column to increase the number of rows and columns by 1.\n",
    "2. Populate the entries of this new row and column with the distances as defined by Eq. 11 (in a symmetric way).\n",
    "3. Eliminate the rows and columns corresponding to the two OTUs we are joining (0 and 2 for this example).\n",
    "\n",
    "Let's follow this steps."
   ]
  },
  {
   "cell_type": "code",
   "execution_count": 34,
   "metadata": {},
   "outputs": [
    {
     "name": "stdout",
     "output_type": "stream",
     "text": [
      "The new distance matrix is given by\n",
      "[[0.         0.10287081 0.11873652]\n",
      " [0.10287081 0.         0.09918863]\n",
      " [0.11873652 0.09918863 0.        ]]\n"
     ]
    }
   ],
   "source": [
    "# 1. Add a new row to our matrix `sim_mat` and a new column to \n",
    "# increase the number of rows and columns by 1.\n",
    "# first we generate a matrix full of zeros with one extra row and column\n",
    "mat_plus = np.zeros(np.array(sim_mat.shape) + 1)\n",
    "# Then we replace 0's with known distance\n",
    "mat_plus[0:sim_mat.shape[0], 0:sim_mat.shape[1]] = sim_mat\n",
    "\n",
    "# 2. Populate the entries of this new row and column with the distances \n",
    "# as defined by Eq. 11 (in a symmetric way).\n",
    "for k in range(len(sim_mat)):\n",
    "    mat_plus[k, -1] = (1 / 2) * (sim_mat[k, i] + sim_mat[k, j])\n",
    "    mat_plus[-1, k] = mat_plus[k, -1]\n",
    "    \n",
    "# Eliminate the rows and columns corresponding to the two OTUs \n",
    "# we are joining (0 and 2 for this example).\n",
    "mat_plus = np.delete(mat_plus, [i, j], axis=0)\n",
    "mat_plus = np.delete(mat_plus, [i, j], axis=1)\n",
    "\n",
    "print('The new distance matrix is given by')\n",
    "print(mat_plus)"
   ]
  },
  {
   "cell_type": "markdown",
   "metadata": {},
   "source": [
    "### 5. Saving joined OTU with distance and REPEAT\n",
    "\n",
    "At this point all we have left for the algorithm to work is register the branch length between the two OTUs that we joined (0 and 2 for the example) and the new generated node (0-2). Then we have to repeat the procedure this time using the updated distance matrix."
   ]
  },
  {
   "cell_type": "markdown",
   "metadata": {},
   "source": [
    "# A tidy function \n",
    "\n",
    "We have implemented the algorithm in the following function. This implementation goes beyond what we saw in the sense that it not only generates the tree, but it keeps track of the newly formed nodes (using dictionaries and Pandas DataFrames) and generates a [newick string](https://en.wikipedia.org/wiki/Newick_format) that is a standard format for phylogenetic trees that biophyton can use to display the tree."
   ]
  },
  {
   "cell_type": "code",
   "execution_count": 23,
   "metadata": {},
   "outputs": [],
   "source": [
    "def neighbor_joining(D, names=None):\n",
    "    '''\n",
    "    test\n",
    "    '''\n",
    "    # Convert distance matrix to DataFrame to track index identity\n",
    "    df_D = pd.DataFrame(D)\n",
    "    \n",
    "    # Save original index. This is important to distinguish internal nodes\n",
    "    # from external ones.\n",
    "    original_idx = df_D.index.tolist()\n",
    "    \n",
    "    # Get shape of distance matrix\n",
    "    shape = D.shape\n",
    "    \n",
    "    # Check that the matrix is a square matrix\n",
    "    if shape[0] != shape[1]:\n",
    "        raise ValueError('The ditance matrix must be square')\n",
    "    \n",
    "    # Check that is is larger than 2 x 2\n",
    "    if shape[0] == 2:\n",
    "        raise ValueError('No work to do. The tree has only two nodes')\n",
    "    \n",
    "    # Check that the names given are the same length as the distrance matrix\n",
    "    if names == None:\n",
    "        names = string.ascii_lowercase[0:len(df_D)]\n",
    "    elif len(names) != len(D):\n",
    "        raise ValueError('Are you sure you gave me enough names?')\n",
    "    \n",
    "    # Initialize dictionary to save output tree in the format \n",
    "    # 'x->y:distance'\n",
    "    tree = dict()\n",
    "    \n",
    "    # Initialize dictionary to save the distance between recently joined\n",
    "    # nodes. This is necessary to determine branch length of internal nodes\n",
    "    tree_nodes = dict()\n",
    "    \n",
    "    # Initialize dictionary to save node names to generate the newick format\n",
    "    newick_dict = dict(zip(df_D.index.tolist(), names))\n",
    "    \n",
    "    # Start the algorighm\n",
    "    for loop in range(shape[0] - 2):\n",
    "        # extract numerical values of DataFrame\n",
    "        D = df_D.values\n",
    "        \n",
    "        # Obtain size of distance matrix\n",
    "        n = len(D)\n",
    "        \n",
    "        # Compute Q-matrix\n",
    "        s_mat = s_matrix(D)\n",
    "        \n",
    "        # Find where the minimum distance is\n",
    "        min_val = np.min(s_mat[np.nonzero(s_mat)])\n",
    "        row, col = np.where(s_mat == min_val)\n",
    "        idx = [row[0], col[0]]\n",
    "        i, j = min(idx), max(idx)\n",
    "        \n",
    "        # Extract species index (index name)\n",
    "        i_idx = df_D.iloc[i,:].name\n",
    "        j_idx = df_D.iloc[j,:].name\n",
    "        \n",
    "        \n",
    "        # Define list of index different from i and j\n",
    "        idx_out = np.arange(n)\n",
    "        idx_out = np.delete(idx_out, [i, j])\n",
    "            \n",
    "        # Compute distance of the recently joined edges\n",
    "        limb_length_i = (1 / 2) * (D[i, j] + np.sum(D[i, idx_out]) / (n - 2)\n",
    "                                           - np.sum(D[j, idx_out]) / (n - 2))\n",
    "        limb_length_j = (1 / 2) * (D[i, j] + np.sum(D[j, idx_out]) / (n - 2)\n",
    "                                           - np.sum(D[i, idx_out]) / (n - 2))\n",
    "        \n",
    "        # Generate expanded matrix with extra row to update distances\n",
    "        mat_plus = np.zeros(np.array(D.shape) + 1)\n",
    "        # Replace 0's with known distance\n",
    "        mat_plus[0:D.shape[0], 0:D.shape[1]] = D\n",
    "        \n",
    "        # Update distance to new node\n",
    "        for k in range(len(D)):\n",
    "            mat_plus[k, -1] = (D[k, i] + D[k, j]) / 2\n",
    "            mat_plus[-1, k] = mat_plus[k, -1]\n",
    "            \n",
    "        # Define new node index\n",
    "        m = max(df_D.index.tolist()) + 1\n",
    "        # Extract index from current DataFrame\n",
    "        new_idx = df_D.index.tolist() + [m]\n",
    "        # Convert extended distance matrix to data frame using same index\n",
    "        df_D = pd.DataFrame(mat_plus, index=new_idx, columns=new_idx)\n",
    "        # Drop the rows and columns of the two nodes that were joined\n",
    "        df_D.drop(index=[i_idx, j_idx], inplace=True)\n",
    "        df_D.drop(columns=[i_idx, j_idx], inplace=True)\n",
    "        \n",
    "        # Save the distance between the two nodes being connected. Useful to\n",
    "        # determine internal branch length\n",
    "        tree_nodes[m] = D[i,j]\n",
    "        \n",
    "        # If the node is internal (i.e. it didn't existed in the origina list)\n",
    "        # update the branch length by correcting using the distance between the\n",
    "        # nodes that originally formed this node.\n",
    "        if i_idx not in original_idx :\n",
    "            limb_length_i = limb_length_i - tree_nodes[i_idx] / 2\n",
    "        if j_idx not in original_idx :\n",
    "            limb_length_j = limb_length_j - tree_nodes[j_idx] / 2\n",
    "        \n",
    "        # Add entry to tree\n",
    "        tree[str(i_idx) + '->' + str(m)] = limb_length_i\n",
    "        tree[str(j_idx) + '->' + str(m)] = limb_length_j\n",
    "        \n",
    "        tree[str(m) + '->' + str(i_idx)] = limb_length_i\n",
    "        tree[str(m) + '->' + str(j_idx)] = limb_length_j\n",
    "        \n",
    "        # Newick format of this joined nodes\n",
    "        name = '({0:s}:{2:0.2f}, {1:s}:{3:0.2f})'.\\\n",
    "               format(newick_dict[i_idx], newick_dict[j_idx],\n",
    "                      limb_length_i, limb_length_j)\n",
    "            \n",
    "        # Append name to newick_dict\n",
    "        newick_dict[m] = name\n",
    "        \n",
    "    # Extract last two nodes to be joined\n",
    "    last_idx = df_D.index.tolist()\n",
    "    last_corr = min([tree_nodes[x] for x in last_idx])\n",
    "    # Extract last distance\n",
    "    last_dist = (1 / 2) * df_D.iloc[1, 0] - last_corr / 2\n",
    "    \n",
    "    # Append the distance of the last two-knobs left\n",
    "    tree[str(last_idx[0]) + '->' + str(last_idx[1])] = last_dist\n",
    "    tree[str(last_idx[1]) + '->' + str(last_idx[0])] = last_dist\n",
    "    \n",
    "    newick_str = '({0:s}:{2:0.2f}, {1:s}:{3:0.2f})'.\\\n",
    "               format(newick_dict[last_idx[0]], newick_dict[last_idx[1]],\n",
    "                      last_dist, last_dist)\n",
    "    \n",
    "    return tree, newick_str"
   ]
  },
  {
   "cell_type": "markdown",
   "metadata": {},
   "source": [
    "Now that we have the function let's use it with our data!"
   ]
  },
  {
   "cell_type": "code",
   "execution_count": 24,
   "metadata": {},
   "outputs": [
    {
     "data": {
      "image/png": "[encoded data removed]",
      "text/plain": [
       "<Figure size 432x288 with 1 Axes>"
      ]
     },
     "metadata": {},
     "output_type": "display_data"
    }
   ],
   "source": [
    "species_names = [sp.name for sp in aln]\n",
    "tree_dict, newick = neighbor_joining(sim_mat, species_names)\n",
    "tree = Bio.Phylo.read(io.StringIO(newick), 'newick')\n",
    "Bio.Phylo.draw(tree)"
   ]
  },
  {
   "cell_type": "markdown",
   "metadata": {},
   "source": [
    "Just to double check that this algorithm is indeed giving the right answer we will copy the example distance matrix from the [wiki entry](https://en.wikipedia.org/wiki/Neighbor_joining) of the algorithm and see if we obtain the same tree as the one they propose."
   ]
  },
  {
   "cell_type": "code",
   "execution_count": 25,
   "metadata": {},
   "outputs": [
    {
     "data": {
      "image/png": "[encoded data removed]",
      "text/plain": [
       "<Figure size 432x288 with 1 Axes>"
      ]
     },
     "metadata": {},
     "output_type": "display_data"
    }
   ],
   "source": [
    "D = np.array([[0, 5, 9, 9, 8],\n",
    "              [5, 0, 10, 10, 9],\n",
    "              [9, 10, 0, 8, 7],\n",
    "              [9, 10, 8, 0, 3],\n",
    "              [8, 9, 7, 3, 0]])\n",
    "tree_dict, newick = neighbor_joining(D)\n",
    "tree = Bio.Phylo.read(io.StringIO(newick), 'newick')\n",
    "Bio.Phylo.draw(tree)"
   ]
  },
  {
   "cell_type": "markdown",
   "metadata": {},
   "source": [
    "---\n",
    "# Working implementation (Different from paper)\n",
    "---"
   ]
  },
  {
   "cell_type": "markdown",
   "metadata": {},
   "source": [
    "An alternative implementation of the algorithm is proposed in [this entry](http://rosalind.info/problems/ba7e/) from the Rosalind Bioinformatics course website. The steps of the algorithm are also described (**but not justified!**) in the [Wiki entry](https://en.wikipedia.org/wiki/Neighbor_joining#The_algorithm) as:\n",
    "1. Based on the current distance matrix $\\bb{D}$ calculate the matrix $\\bb{Q}$ (to be defined later).\n",
    "2. Finde the pair of distinct taxa $i-j$ with $i \\neq j$ for which $\\bb{Q}_{ij}$ has its lowest value.\n",
    "3. Calculate the distance from each of the taxa in the $i-j$ pair to the newly formed node.\n",
    "4. Calculate the distance from each of the taxa outside of the $i-j$ pair to this new node.\n",
    "5. Start the algorithm again, replacing the pair of joined neighbors with the new node, and using the updated distance matrix $\\bb{D}'$."
   ]
  },
  {
   "cell_type": "markdown",
   "metadata": {},
   "source": [
    "Again your nice TA implemented this for you to have an alternative to the original 1987 implementation that also works."
   ]
  },
  {
   "cell_type": "code",
   "execution_count": 26,
   "metadata": {},
   "outputs": [],
   "source": [
    "def q_matrix(mat):\n",
    "    '''\n",
    "    Computes the Q-Matrix for the Neighbor Joining algorithm\n",
    "    '''\n",
    "    # Get the number of entries in matrix\n",
    "    n = len(mat)\n",
    "    \n",
    "    # Initialize matrix to save entries\n",
    "    q_mat = np.zeros_like(mat)\n",
    "\n",
    "    # Loop through rows\n",
    "    for i in range(n):\n",
    "        for j in range(n):\n",
    "            q_mat[i, j] = (n - 2) * mat[i, j] - \\\n",
    "                          np.sum(mat[i, :]) - \\\n",
    "                          np.sum(mat[j, :])\n",
    "    np.fill_diagonal(q_mat, 0)\n",
    "    \n",
    "    return q_mat"
   ]
  },
  {
   "cell_type": "code",
   "execution_count": 27,
   "metadata": {},
   "outputs": [],
   "source": [
    "def neighbor_joining_alternative(D, names=None):\n",
    "    '''\n",
    "    test\n",
    "    '''\n",
    "    # Convert distance matrix to DataFrame to track index identity\n",
    "    df_D = pd.DataFrame(D)\n",
    "    \n",
    "    # Get shape of distance matrix\n",
    "    shape = D.shape\n",
    "    \n",
    "    # Check that the matrix is a square matrix\n",
    "    if shape[0] != shape[1]:\n",
    "        raise ValueError('The ditance matrix must be square')\n",
    "    \n",
    "    # Check that is is larger than 2 x 2\n",
    "    if shape[0] == 2:\n",
    "        raise ValueError('No work to do. The tree has only two nodes')\n",
    "    \n",
    "    # Check that the names given are the same length as the distrance matrix\n",
    "    if names == None:\n",
    "        names = string.ascii_lowercase[0:len(df_D)]\n",
    "    elif len(names) != len(D):\n",
    "        raise ValueError('Are you sure you gave me enough names?')\n",
    "    \n",
    "    # Initialize dictionary to save output tree\n",
    "    tree = dict()\n",
    "    \n",
    "    # Initialize dictionary to save node names to generate the newick format\n",
    "    newick_dict = dict(zip(df_D.index.tolist(), names))\n",
    "    \n",
    "    # Start the algorighm\n",
    "    for loop in range(shape[0] - 2):\n",
    "        # extract numerical values of DataFrame\n",
    "        D = df_D.values\n",
    "        \n",
    "        # Obtain size of distance matrix\n",
    "        n = len(D)\n",
    "        \n",
    "        # Compute Q-matrix\n",
    "        q_mat = q_matrix(D)\n",
    "        \n",
    "        # Find where the minimum distance is\n",
    "        row, col = np.where(q_mat == q_mat.min())\n",
    "        \n",
    "        # Extract species index (numeric position)\n",
    "        i, j = row[0], col[0]\n",
    "        # Extract species index (index name)\n",
    "        i_idx = df_D.iloc[i,:].name\n",
    "        j_idx = df_D.iloc[j,:].name\n",
    "        \n",
    "        # Compute distance ∆\n",
    "        delta_dist = np.sum(D[i, :] - D[j, :]) / (n - 2)\n",
    "        \n",
    "        # Compute distance of the recently joined edges\n",
    "        limb_length_i = (1 / 2) * (D[i, j] + delta_dist)\n",
    "        limb_length_j = (1 / 2) * (D[i, j] - delta_dist)\n",
    "        \n",
    "        # Generate expanded matrix with extra row to update distances\n",
    "        mat_plus = np.zeros(np.array(D.shape) + 1)\n",
    "        # Replace 0's with known distance\n",
    "        mat_plus[0:D.shape[0], 0:D.shape[1]] = D\n",
    "        \n",
    "        # Update distance to new node\n",
    "        for k in range(len(D)):\n",
    "            mat_plus[k, -1] = (1 / 2) * (D[k, i] + D[k, j] - D[i, j])\n",
    "            mat_plus[-1, k] = mat_plus[k, -1]\n",
    "            \n",
    "        # Define new node index\n",
    "        m = max(df_D.index.tolist()) + 1\n",
    "        # Extract index from current DataFrame\n",
    "        new_idx = df_D.index.tolist() + [m]\n",
    "        # Convert extended distance matrix to data frame using same index\n",
    "        df_D = pd.DataFrame(mat_plus, index=new_idx, columns=new_idx)\n",
    "        # Drop the rows and columns of the two nodes that were joined\n",
    "        df_D.drop(index=[i_idx, j_idx], inplace=True)\n",
    "        df_D.drop(columns=[i_idx, j_idx], inplace=True)\n",
    "        \n",
    "        # Add entry to tree\n",
    "        tree[str(i_idx) + '->' + str(m)] = limb_length_i\n",
    "        tree[str(j_idx) + '->' + str(m)] = limb_length_j\n",
    "        \n",
    "        tree[str(m) + '->' + str(i_idx)] = limb_length_i\n",
    "        tree[str(m) + '->' + str(j_idx)] = limb_length_j\n",
    "        \n",
    "        # Newick format of this joined nodes\n",
    "        name = '({0:s}:{2:0.2f}, {1:s}:{3:0.2f})'.\\\n",
    "               format(newick_dict[i_idx], newick_dict[j_idx],\n",
    "                      limb_length_i, limb_length_j)\n",
    "        # Append name to newick_dict\n",
    "        newick_dict[m] = name\n",
    "        \n",
    "    # Extract last two knobs to be joined\n",
    "    last_idx = df_D.index.tolist()\n",
    "    # Extract last distance\n",
    "    last_dist = df_D.iloc[1, 0]\n",
    "    \n",
    "    # Append the distance of the last two-knobs left\n",
    "    tree[str(last_idx[0]) + '->' + str(last_idx[1])] = last_dist\n",
    "    tree[str(last_idx[1]) + '->' + str(last_idx[0])] = last_dist\n",
    "    \n",
    "    newick_str = '({0:s}:{2:0.2f}, {1:s}:{3:0.2f})'.\\\n",
    "               format(newick_dict[last_idx[0]], newick_dict[last_idx[1]],\n",
    "                      last_dist, last_dist)\n",
    "    \n",
    "    return tree, newick_str"
   ]
  },
  {
   "cell_type": "code",
   "execution_count": 28,
   "metadata": {},
   "outputs": [
    {
     "data": {
      "image/png": "[encoded data removed]",
      "text/plain": [
       "<Figure size 432x288 with 1 Axes>"
      ]
     },
     "metadata": {},
     "output_type": "display_data"
    }
   ],
   "source": [
    "species_names = [record.name for record in aln]\n",
    "tree_dict, tree_newick = neighbor_joining_alternative(sim_mat, \n",
    "                                                      names=species_names)\n",
    "newick = Bio.Phylo.read(io.StringIO(tree_newick), 'newick')\n",
    "Bio.Phylo.draw(newick)"
   ]
  },
  {
   "cell_type": "markdown",
   "metadata": {},
   "source": [
    "# In conclusion\n",
    "\n",
    "We learned the basics of how to compare sequences and how to use these comparison metrics to generate a phylogenetic tree. There are still a couple of details to clarify from the algorithm implementation, but we definitely moved forward to shedding some light into the dark box that tree-generating algorithms usually are."
   ]
  }
 ],
 "metadata": {
  "anaconda-cloud": {},
  "kernelspec": {
   "display_name": "Python 3",
   "language": "python",
   "name": "python3"
  },
  "language_info": {
   "codemirror_mode": {
    "name": "ipython",
    "version": 3
   },
   "file_extension": ".py",
   "mimetype": "text/x-python",
   "name": "python",
   "nbconvert_exporter": "python",
   "pygments_lexer": "ipython3",
   "version": "3.7.5"
  }
 },
 "nbformat": 4,
 "nbformat_minor": 4
}
